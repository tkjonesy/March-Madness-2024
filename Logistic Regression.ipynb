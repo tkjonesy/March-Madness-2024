{
 "cells": [
  {
   "cell_type": "code",
   "execution_count": 1,
   "id": "initial_id",
   "metadata": {
    "collapsed": true,
    "ExecuteTime": {
     "end_time": "2025-03-09T23:53:55.486647Z",
     "start_time": "2025-03-09T23:53:55.055215Z"
    }
   },
   "outputs": [],
   "source": [
    "import pandas as pd\n",
    "import numpy as np\n",
    "from matplotlib import pyplot as plt\n",
    "import seaborn as sns"
   ]
  },
  {
   "cell_type": "markdown",
   "source": [
    "## Logistic Regression"
   ],
   "metadata": {
    "collapsed": false
   },
   "id": "3ceaff60c7636270"
  },
  {
   "cell_type": "code",
   "outputs": [
    {
     "name": "stdout",
     "output_type": "stream",
     "text": [
      "[[0.8324654  0.1675346 ]\n",
      " [0.46510955 0.53489045]\n",
      " [0.09471392 0.90528608]\n",
      " [0.56849522 0.43150478]\n",
      " [0.33720608 0.66279392]]\n",
      "Log Loss: 0.6013579939175102\n",
      "Brier Score: 0.20769966982731866\n"
     ]
    }
   ],
   "source": [
    "# Train logistic regression model\n",
    "model = LogisticRegression()\n",
    "model.fit(X_train, y_train)\n",
    "\n",
    "# Get model predictions\n",
    "y_pred = model.predict(X_test)\n",
    "y_pred_proba = model.predict_proba(X_test)\n",
    "print(y_pred_proba[:5]) # Sanity check\n",
    "\n",
    "# Calculate logg loss\n",
    "logLoss = log_loss(y_test, y_pred_proba)\n",
    "print(f'Log Loss: {logLoss}')\n",
    "\n",
    "# Calculate brier score\n",
    "y_pred_proba_class1 = y_pred_proba[:, 1]\n",
    "brier_score = brier_score_loss(y_test, y_pred_proba_class1)\n",
    "print(f'Brier Score: {brier_score}')"
   ],
   "metadata": {
    "collapsed": false,
    "ExecuteTime": {
     "end_time": "2025-03-09T23:53:55.998370Z",
     "start_time": "2025-03-09T23:53:55.956450Z"
    }
   },
   "id": "d2937abe436269c0",
   "execution_count": 22
  },
  {
   "cell_type": "markdown",
   "source": [
    "## Hyperparameter Tuning"
   ],
   "metadata": {
    "collapsed": false
   },
   "id": "890faa44057991c6"
  },
  {
   "cell_type": "code",
   "outputs": [],
   "source": [
    "# # Perform grid search\n",
    "# grid = {\n",
    "#     'C': [0.001, 0.1, 1, 10, 100],\n",
    "#     'solver': ['lbfgs', 'liblinear', 'newton-cg', 'newton-cholesky', 'sag', 'saga'],\n",
    "#     'max_iter': [100, 250, 500, 750, 1000],\n",
    "#     'tol': [1e-4, 1e-5]\n",
    "# }\n",
    "# \n",
    "# gridLog = LogisticRegression()\n",
    "# gridSearch = GridSearchCV(gridLog, grid, cv=5, scoring=['precision', 'recall', 'f1'], refit='f1')\n",
    "# gridSearch.fit(X_train, y_train)\n",
    "# print(f'Best Params: {gridSearch.best_params_}')"
   ],
   "metadata": {
    "collapsed": false,
    "ExecuteTime": {
     "end_time": "2025-03-09T23:53:56.001857Z",
     "start_time": "2025-03-09T23:53:55.999401Z"
    }
   },
   "id": "9702d925c2868bd8",
   "execution_count": 23
  },
  {
   "cell_type": "code",
   "outputs": [
    {
     "name": "stdout",
     "output_type": "stream",
     "text": [
      "Log Loss: 0.6013059888683515\n",
      "Brier Score: 0.20771566236729694\n"
     ]
    },
    {
     "name": "stderr",
     "output_type": "stream",
     "text": [
      "C:\\Users\\Trever\\AppData\\Local\\Programs\\Python\\Python312\\Lib\\site-packages\\sklearn\\linear_model\\_sag.py:350: ConvergenceWarning: The max_iter was reached which means the coef_ did not converge\n",
      "  warnings.warn(\n"
     ]
    }
   ],
   "source": [
    "# Train with new parameters\n",
    "newModel = LogisticRegression(\n",
    "    C=1,\n",
    "    max_iter=100,\n",
    "    solver='saga',\n",
    "    tol=0.0001\n",
    ")\n",
    "newModel.fit(X_train, y_train)\n",
    "\n",
    "# Get model predictions\n",
    "y_pred = newModel.predict(X_test)\n",
    "y_pred_proba = newModel.predict_proba(X_test)\n",
    "\n",
    "# Compute Metrics log loss and brier score\n",
    "logLoss = log_loss(y_test, y_pred_proba)\n",
    "print(f'Log Loss: {logLoss}')\n",
    "y_pred_proba_class1 = y_pred_proba[:, 1]\n",
    "brier_score = brier_score_loss(y_test, y_pred_proba_class1)\n",
    "print(f'Brier Score: {brier_score}')"
   ],
   "metadata": {
    "collapsed": false,
    "ExecuteTime": {
     "end_time": "2025-03-09T23:53:56.077788Z",
     "start_time": "2025-03-09T23:53:56.001857Z"
    }
   },
   "id": "44c4706b1e15fa9d",
   "execution_count": 24
  }
 ],
 "metadata": {
  "kernelspec": {
   "display_name": "Python 3",
   "language": "python",
   "name": "python3"
  },
  "language_info": {
   "codemirror_mode": {
    "name": "ipython",
    "version": 2
   },
   "file_extension": ".py",
   "mimetype": "text/x-python",
   "name": "python",
   "nbconvert_exporter": "python",
   "pygments_lexer": "ipython2",
   "version": "2.7.6"
  }
 },
 "nbformat": 4,
 "nbformat_minor": 5
}

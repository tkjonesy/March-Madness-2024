{
 "cells": [
  {
   "cell_type": "code",
   "execution_count": 1,
   "id": "initial_id",
   "metadata": {
    "collapsed": true,
    "ExecuteTime": {
     "end_time": "2025-03-09T23:53:55.486647Z",
     "start_time": "2025-03-09T23:53:55.055215Z"
    }
   },
   "outputs": [],
   "source": [
    "import pandas as pd\n",
    "import numpy as np\n",
    "from matplotlib import pyplot as plt\n",
    "import seaborn as sns\n",
    "from sklearn.linear_model import LogisticRegression\n",
    "from sklearn.model_selection import train_test_split\n",
    "from sklearn.preprocessing import StandardScaler\n",
    "from sklearn.metrics import classification_report\n",
    "from sklearn.model_selection import GridSearchCV\n",
    "from sklearn.metrics import log_loss\n",
    "from sklearn.metrics import brier_score_loss"
   ]
  },
  {
   "cell_type": "markdown",
   "source": [
    "## Men's Data"
   ],
   "metadata": {
    "collapsed": false
   },
   "id": "e2ce688b25d32fa8"
  },
  {
   "cell_type": "code",
   "outputs": [],
   "source": [
    "# Load data into Pandas dataframes\n",
    "mRegDetail = pd.read_csv('data/men data/MRegularSeasonDetailedResults.csv')\n",
    "mTournCompact = pd.read_csv('data/men data/MNCAATourneyCompactResults.csv')\n",
    "mNames = pd.read_csv('data/men data/MTeamSpellings.csv')"
   ],
   "metadata": {
    "collapsed": false,
    "ExecuteTime": {
     "end_time": "2025-03-09T23:53:55.626760Z",
     "start_time": "2025-03-09T23:53:55.486647Z"
    }
   },
   "id": "3cd32e70e72f9f34",
   "execution_count": 2
  },
  {
   "cell_type": "code",
   "outputs": [
    {
     "data": {
      "text/plain": "array(['Season', 'DayNum', 'WTeamID', 'WScore', 'LTeamID', 'LScore',\n       'WLoc', 'NumOT', 'WFGM', 'WFGA', 'WFGM3', 'WFGA3', 'WFTM', 'WFTA',\n       'WOR', 'WDR', 'WAst', 'WTO', 'WStl', 'WBlk', 'WPF', 'LFGM', 'LFGA',\n       'LFGM3', 'LFGA3', 'LFTM', 'LFTA', 'LOR', 'LDR', 'LAst', 'LTO',\n       'LStl', 'LBlk', 'LPF'], dtype=object)"
     },
     "metadata": {},
     "output_type": "display_data"
    }
   ],
   "source": [
    "display(mRegDetail.columns.values)"
   ],
   "metadata": {
    "collapsed": false,
    "ExecuteTime": {
     "end_time": "2025-03-09T23:53:55.631106Z",
     "start_time": "2025-03-09T23:53:55.627764Z"
    }
   },
   "id": "80b747df2f35b319",
   "execution_count": 3
  },
  {
   "cell_type": "code",
   "outputs": [],
   "source": [
    "# Split regular season detailed results into dataframes focused on outcome for one team\n",
    "mRegWinners = pd.DataFrame()\n",
    "mRegLossers = pd.DataFrame()\n",
    "\n",
    "# Establish new columns for that includes stats for one team\n",
    "columns = ['Season', 'TeamID', 'Score', 'OppScore',\n",
    "       'NumOT', 'FGM', 'FGA', 'FGM3', 'FGA3', 'FTM', 'FTA',\n",
    "       'OR', 'DR', 'Ast', 'TO', 'Stl', 'Blk', 'PF', 'OppFGM', 'OppFGA',\n",
    "       'OppFGM3', 'OppFGA3', 'OppFTM', 'OppFTA', 'OppOR', 'OppDR', 'OppAst', 'OppTO',\n",
    "       'OppStl', 'OppBlk', 'OppPF']"
   ],
   "metadata": {
    "collapsed": false,
    "ExecuteTime": {
     "end_time": "2025-03-09T23:53:55.641711Z",
     "start_time": "2025-03-09T23:53:55.631106Z"
    }
   },
   "id": "bf43b1c86fc39a42",
   "execution_count": 4
  },
  {
   "cell_type": "code",
   "outputs": [],
   "source": [
    "# Split winners from regular season\n",
    "mRegWinners[columns] = mRegDetail[['Season', 'WTeamID', 'WScore', 'LScore',\n",
    "       'NumOT', 'WFGM', 'WFGA', 'WFGM3', 'WFGA3', 'WFTM', 'WFTA',\n",
    "       'WOR', 'WDR', 'WAst', 'WTO', 'WStl', 'WBlk', 'WPF', 'LFGM', 'LFGA',\n",
    "       'LFGM3', 'LFGA3', 'LFTM', 'LFTA', 'LOR', 'LDR', 'LAst', 'LTO',\n",
    "       'LStl', 'LBlk', 'LPF']]\n",
    "\n",
    "# Add wins and losses columns\n",
    "mRegWinners['Wins'] = 1\n",
    "mRegWinners['Losses'] = 0"
   ],
   "metadata": {
    "collapsed": false,
    "ExecuteTime": {
     "end_time": "2025-03-09T23:53:55.672547Z",
     "start_time": "2025-03-09T23:53:55.641711Z"
    }
   },
   "id": "1a8acc93dbbae2d7",
   "execution_count": 5
  },
  {
   "cell_type": "code",
   "outputs": [],
   "source": [
    "# Split lossers from regular season\n",
    "mRegLossers[columns] = mRegDetail[['Season', 'LTeamID', 'LScore', 'WScore',\n",
    "       'NumOT', 'LFGM', 'LFGA', 'LFGM3', 'LFGA3', 'LFTM', 'LFTA',\n",
    "       'LOR', 'LDR', 'LAst', 'LTO', 'LStl', 'LBlk', 'LPF', 'WFGM', 'WFGA',\n",
    "       'WFGM3', 'WFGA3', 'WFTM', 'WFTA','WOR', 'WDR', 'WAst', 'WTO',\n",
    "       'WStl', 'WBlk', 'WPF']]\n",
    "\n",
    "# Add wins and losses columns\n",
    "mRegLossers['Wins'] = 0\n",
    "mRegLossers['Losses'] = 1"
   ],
   "metadata": {
    "collapsed": false,
    "ExecuteTime": {
     "end_time": "2025-03-09T23:53:55.694075Z",
     "start_time": "2025-03-09T23:53:55.672547Z"
    }
   },
   "id": "b82d9349edc71d09",
   "execution_count": 6
  },
  {
   "cell_type": "code",
   "outputs": [],
   "source": [
    "# Combine all games into one dataframe\n",
    "mAllRegDetail = pd.concat([mRegWinners, mRegLossers])"
   ],
   "metadata": {
    "collapsed": false,
    "ExecuteTime": {
     "end_time": "2025-03-09T23:53:55.711969Z",
     "start_time": "2025-03-09T23:53:55.694075Z"
    }
   },
   "id": "7343b00600410b9b",
   "execution_count": 7
  },
  {
   "cell_type": "code",
   "outputs": [],
   "source": [
    "# Sum stats for each season for each team for regular season\n",
    "mRegSeasonDetail = mAllRegDetail.groupby(['Season', 'TeamID']).sum(numeric_only=True)\n",
    "mRegSeasonDetail['NumGames'] = mRegSeasonDetail['Wins'] + mRegSeasonDetail['Losses']"
   ],
   "metadata": {
    "collapsed": false,
    "ExecuteTime": {
     "end_time": "2025-03-09T23:53:55.749959Z",
     "start_time": "2025-03-09T23:53:55.711969Z"
    }
   },
   "id": "521360e807d5a23a",
   "execution_count": 8
  },
  {
   "cell_type": "code",
   "outputs": [
    {
     "data": {
      "text/plain": "array(['Score', 'OppScore', 'NumOT', 'FGM', 'FGA', 'FGM3', 'FGA3', 'FTM',\n       'FTA', 'OR', 'DR', 'Ast', 'TO', 'Stl', 'Blk', 'PF', 'OppFGM',\n       'OppFGA', 'OppFGM3', 'OppFGA3', 'OppFTM', 'OppFTA', 'OppOR',\n       'OppDR', 'OppAst', 'OppTO', 'OppStl', 'OppBlk', 'OppPF', 'Wins',\n       'Losses', 'NumGames'], dtype=object)"
     },
     "metadata": {},
     "output_type": "display_data"
    }
   ],
   "source": [
    "display(mRegSeasonDetail.columns.values)"
   ],
   "metadata": {
    "collapsed": false,
    "ExecuteTime": {
     "end_time": "2025-03-09T23:53:55.753555Z",
     "start_time": "2025-03-09T23:53:55.749959Z"
    }
   },
   "id": "deab2407330773e",
   "execution_count": 9
  },
  {
   "cell_type": "code",
   "outputs": [
    {
     "data": {
      "text/plain": "               Score  OppScore  NumOT  FGM   FGA  FGM3  FGA3  FTM  FTA   OR  \\\nSeason TeamID                                                                 \n2003   1102     1603      1596      0  536  1114   219   583  312  479  117   \n       1103     2127      2110      8  733  1508   147   434  514  698  264   \n       1104     1940      1820      1  673  1601   178   556  416  586  380   \n       1105     1866      1993      4  634  1602   197   540  401  568  351   \n       1106     1781      1785      1  656  1548   171   494  298  461  344   \n...              ...       ...    ...  ...   ...   ...   ...  ...  ...  ...   \n2025   1476     1964      2056      0  676  1561   250   701  362  499  204   \n       1477     1995      2321      1  713  1714   260   828  309  480  246   \n       1478     2091      2356      7  718  1609   221   669  434  605  216   \n       1479     1842      2009      3  635  1507   196   549  376  466  174   \n       1480     2033      2365      0  760  1779   159   536  354  513  245   \n\n               ...  OppOR  OppDR  OppAst  OppTO  OppStl  OppBlk  OppPF  Wins  \\\nSeason TeamID  ...                                                             \n2003   1102    ...    269    564     256    363     152      44    514    12   \n       1103    ...    325    595     418    414     173      77    606    13   \n       1104    ...    305    634     327    388     155      89    539    17   \n       1105    ...    343    686     411    489     244     109    496     7   \n       1106    ...    317    626     330    422     246      89    452    13   \n...            ...    ...    ...     ...    ...     ...     ...    ...   ...   \n2025   1476    ...    258    644     299    289     196     111    457    13   \n       1477    ...    311    728     491    404     286     119    476     5   \n       1478    ...    302    671     464    318     215      84    512     7   \n       1479    ...    233    662     389    351     161      79    472    12   \n       1480    ...    234    754     471    326     206      93    461     5   \n\n               Losses  NumGames  \nSeason TeamID                    \n2003   1102        16        28  \n       1103        14        27  \n       1104        11        28  \n       1105        19        26  \n       1106        15        28  \n...               ...       ...  \n2025   1476        16        29  \n       1477        26        31  \n       1478        22        29  \n       1479        16        28  \n       1480        25        30  \n\n[7981 rows x 32 columns]",
      "text/html": "<div>\n<style scoped>\n    .dataframe tbody tr th:only-of-type {\n        vertical-align: middle;\n    }\n\n    .dataframe tbody tr th {\n        vertical-align: top;\n    }\n\n    .dataframe thead th {\n        text-align: right;\n    }\n</style>\n<table border=\"1\" class=\"dataframe\">\n  <thead>\n    <tr style=\"text-align: right;\">\n      <th></th>\n      <th></th>\n      <th>Score</th>\n      <th>OppScore</th>\n      <th>NumOT</th>\n      <th>FGM</th>\n      <th>FGA</th>\n      <th>FGM3</th>\n      <th>FGA3</th>\n      <th>FTM</th>\n      <th>FTA</th>\n      <th>OR</th>\n      <th>...</th>\n      <th>OppOR</th>\n      <th>OppDR</th>\n      <th>OppAst</th>\n      <th>OppTO</th>\n      <th>OppStl</th>\n      <th>OppBlk</th>\n      <th>OppPF</th>\n      <th>Wins</th>\n      <th>Losses</th>\n      <th>NumGames</th>\n    </tr>\n    <tr>\n      <th>Season</th>\n      <th>TeamID</th>\n      <th></th>\n      <th></th>\n      <th></th>\n      <th></th>\n      <th></th>\n      <th></th>\n      <th></th>\n      <th></th>\n      <th></th>\n      <th></th>\n      <th></th>\n      <th></th>\n      <th></th>\n      <th></th>\n      <th></th>\n      <th></th>\n      <th></th>\n      <th></th>\n      <th></th>\n      <th></th>\n      <th></th>\n    </tr>\n  </thead>\n  <tbody>\n    <tr>\n      <th rowspan=\"5\" valign=\"top\">2003</th>\n      <th>1102</th>\n      <td>1603</td>\n      <td>1596</td>\n      <td>0</td>\n      <td>536</td>\n      <td>1114</td>\n      <td>219</td>\n      <td>583</td>\n      <td>312</td>\n      <td>479</td>\n      <td>117</td>\n      <td>...</td>\n      <td>269</td>\n      <td>564</td>\n      <td>256</td>\n      <td>363</td>\n      <td>152</td>\n      <td>44</td>\n      <td>514</td>\n      <td>12</td>\n      <td>16</td>\n      <td>28</td>\n    </tr>\n    <tr>\n      <th>1103</th>\n      <td>2127</td>\n      <td>2110</td>\n      <td>8</td>\n      <td>733</td>\n      <td>1508</td>\n      <td>147</td>\n      <td>434</td>\n      <td>514</td>\n      <td>698</td>\n      <td>264</td>\n      <td>...</td>\n      <td>325</td>\n      <td>595</td>\n      <td>418</td>\n      <td>414</td>\n      <td>173</td>\n      <td>77</td>\n      <td>606</td>\n      <td>13</td>\n      <td>14</td>\n      <td>27</td>\n    </tr>\n    <tr>\n      <th>1104</th>\n      <td>1940</td>\n      <td>1820</td>\n      <td>1</td>\n      <td>673</td>\n      <td>1601</td>\n      <td>178</td>\n      <td>556</td>\n      <td>416</td>\n      <td>586</td>\n      <td>380</td>\n      <td>...</td>\n      <td>305</td>\n      <td>634</td>\n      <td>327</td>\n      <td>388</td>\n      <td>155</td>\n      <td>89</td>\n      <td>539</td>\n      <td>17</td>\n      <td>11</td>\n      <td>28</td>\n    </tr>\n    <tr>\n      <th>1105</th>\n      <td>1866</td>\n      <td>1993</td>\n      <td>4</td>\n      <td>634</td>\n      <td>1602</td>\n      <td>197</td>\n      <td>540</td>\n      <td>401</td>\n      <td>568</td>\n      <td>351</td>\n      <td>...</td>\n      <td>343</td>\n      <td>686</td>\n      <td>411</td>\n      <td>489</td>\n      <td>244</td>\n      <td>109</td>\n      <td>496</td>\n      <td>7</td>\n      <td>19</td>\n      <td>26</td>\n    </tr>\n    <tr>\n      <th>1106</th>\n      <td>1781</td>\n      <td>1785</td>\n      <td>1</td>\n      <td>656</td>\n      <td>1548</td>\n      <td>171</td>\n      <td>494</td>\n      <td>298</td>\n      <td>461</td>\n      <td>344</td>\n      <td>...</td>\n      <td>317</td>\n      <td>626</td>\n      <td>330</td>\n      <td>422</td>\n      <td>246</td>\n      <td>89</td>\n      <td>452</td>\n      <td>13</td>\n      <td>15</td>\n      <td>28</td>\n    </tr>\n    <tr>\n      <th>...</th>\n      <th>...</th>\n      <td>...</td>\n      <td>...</td>\n      <td>...</td>\n      <td>...</td>\n      <td>...</td>\n      <td>...</td>\n      <td>...</td>\n      <td>...</td>\n      <td>...</td>\n      <td>...</td>\n      <td>...</td>\n      <td>...</td>\n      <td>...</td>\n      <td>...</td>\n      <td>...</td>\n      <td>...</td>\n      <td>...</td>\n      <td>...</td>\n      <td>...</td>\n      <td>...</td>\n      <td>...</td>\n    </tr>\n    <tr>\n      <th rowspan=\"5\" valign=\"top\">2025</th>\n      <th>1476</th>\n      <td>1964</td>\n      <td>2056</td>\n      <td>0</td>\n      <td>676</td>\n      <td>1561</td>\n      <td>250</td>\n      <td>701</td>\n      <td>362</td>\n      <td>499</td>\n      <td>204</td>\n      <td>...</td>\n      <td>258</td>\n      <td>644</td>\n      <td>299</td>\n      <td>289</td>\n      <td>196</td>\n      <td>111</td>\n      <td>457</td>\n      <td>13</td>\n      <td>16</td>\n      <td>29</td>\n    </tr>\n    <tr>\n      <th>1477</th>\n      <td>1995</td>\n      <td>2321</td>\n      <td>1</td>\n      <td>713</td>\n      <td>1714</td>\n      <td>260</td>\n      <td>828</td>\n      <td>309</td>\n      <td>480</td>\n      <td>246</td>\n      <td>...</td>\n      <td>311</td>\n      <td>728</td>\n      <td>491</td>\n      <td>404</td>\n      <td>286</td>\n      <td>119</td>\n      <td>476</td>\n      <td>5</td>\n      <td>26</td>\n      <td>31</td>\n    </tr>\n    <tr>\n      <th>1478</th>\n      <td>2091</td>\n      <td>2356</td>\n      <td>7</td>\n      <td>718</td>\n      <td>1609</td>\n      <td>221</td>\n      <td>669</td>\n      <td>434</td>\n      <td>605</td>\n      <td>216</td>\n      <td>...</td>\n      <td>302</td>\n      <td>671</td>\n      <td>464</td>\n      <td>318</td>\n      <td>215</td>\n      <td>84</td>\n      <td>512</td>\n      <td>7</td>\n      <td>22</td>\n      <td>29</td>\n    </tr>\n    <tr>\n      <th>1479</th>\n      <td>1842</td>\n      <td>2009</td>\n      <td>3</td>\n      <td>635</td>\n      <td>1507</td>\n      <td>196</td>\n      <td>549</td>\n      <td>376</td>\n      <td>466</td>\n      <td>174</td>\n      <td>...</td>\n      <td>233</td>\n      <td>662</td>\n      <td>389</td>\n      <td>351</td>\n      <td>161</td>\n      <td>79</td>\n      <td>472</td>\n      <td>12</td>\n      <td>16</td>\n      <td>28</td>\n    </tr>\n    <tr>\n      <th>1480</th>\n      <td>2033</td>\n      <td>2365</td>\n      <td>0</td>\n      <td>760</td>\n      <td>1779</td>\n      <td>159</td>\n      <td>536</td>\n      <td>354</td>\n      <td>513</td>\n      <td>245</td>\n      <td>...</td>\n      <td>234</td>\n      <td>754</td>\n      <td>471</td>\n      <td>326</td>\n      <td>206</td>\n      <td>93</td>\n      <td>461</td>\n      <td>5</td>\n      <td>25</td>\n      <td>30</td>\n    </tr>\n  </tbody>\n</table>\n<p>7981 rows × 32 columns</p>\n</div>"
     },
     "execution_count": 10,
     "metadata": {},
     "output_type": "execute_result"
    }
   ],
   "source": [
    "mRegSeasonDetail"
   ],
   "metadata": {
    "collapsed": false,
    "ExecuteTime": {
     "end_time": "2025-03-09T23:53:55.773726Z",
     "start_time": "2025-03-09T23:53:55.753555Z"
    }
   },
   "id": "99abac55d28e4b2a",
   "execution_count": 10
  },
  {
   "cell_type": "code",
   "outputs": [
    {
     "data": {
      "text/plain": "             Score     OppScore        NumOT          FGM          FGA  \\\ncount  7981.000000  7981.000000  7981.000000  7981.000000  7981.000000   \nmean   2074.908407  2074.908407     2.038592   730.481894  1670.609698   \nstd     283.860997   229.252643     1.767080   101.760242   193.137376   \nmin     292.000000   339.000000     0.000000    99.000000   229.000000   \n25%    1896.000000  1947.000000     1.000000   666.000000  1561.000000   \n50%    2081.000000  2086.000000     2.000000   731.000000  1681.000000   \n75%    2263.000000  2223.000000     3.000000   796.000000  1796.000000   \nmax    3016.000000  2874.000000    12.000000  1113.000000  2282.000000   \n\n              FGM3         FGA3          FTM          FTA           OR  ...  \\\ncount  7981.000000  7981.000000  7981.000000  7981.000000  7981.000000  ...   \nmean    201.372886   586.539782   412.571733   589.485904   308.813557  ...   \nstd      46.954447   120.412234    78.573769   107.677541    70.248796  ...   \nmin      36.000000   104.000000    58.000000    85.000000    25.000000  ...   \n25%     168.000000   502.000000   360.000000   520.000000   263.000000  ...   \n50%     198.000000   580.000000   411.000000   589.000000   311.000000  ...   \n75%     232.000000   666.000000   464.000000   658.000000   356.000000  ...   \nmax     389.000000  1209.000000   709.000000  1020.000000   555.000000  ...   \n\n             OppOR        OppDR       OppAst        OppTO       OppStl  \\\ncount  7981.000000  7981.000000  7981.000000  7981.000000  7981.000000   \nmean    308.813557   701.262123   387.635509   392.439669   192.658564   \nstd      58.974359    85.703983    57.324465    67.874634    31.737869   \nmin      37.000000   111.000000    80.000000    37.000000    31.000000   \n25%     271.000000   650.000000   352.000000   349.000000   172.000000   \n50%     312.000000   705.000000   388.000000   391.000000   192.000000   \n75%     349.000000   756.000000   425.000000   435.000000   213.000000   \nmax     523.000000  1040.000000   645.000000   704.000000   334.000000   \n\n            OppBlk        OppPF         Wins       Losses     NumGames  \ncount  7981.000000  7981.000000  7981.000000  7981.000000  7981.000000  \nmean     98.668964   540.972685    14.841373    14.841373    29.682747  \nstd      20.763284    74.427939     6.139575     5.296653     2.806203  \nmin      11.000000    75.000000     0.000000     0.000000     4.000000  \n25%      85.000000   496.000000    10.000000    11.000000    28.000000  \n50%      98.000000   543.000000    15.000000    15.000000    30.000000  \n75%     111.000000   590.000000    19.000000    19.000000    32.000000  \nmax     181.000000   795.000000    34.000000    31.000000    36.000000  \n\n[8 rows x 32 columns]",
      "text/html": "<div>\n<style scoped>\n    .dataframe tbody tr th:only-of-type {\n        vertical-align: middle;\n    }\n\n    .dataframe tbody tr th {\n        vertical-align: top;\n    }\n\n    .dataframe thead th {\n        text-align: right;\n    }\n</style>\n<table border=\"1\" class=\"dataframe\">\n  <thead>\n    <tr style=\"text-align: right;\">\n      <th></th>\n      <th>Score</th>\n      <th>OppScore</th>\n      <th>NumOT</th>\n      <th>FGM</th>\n      <th>FGA</th>\n      <th>FGM3</th>\n      <th>FGA3</th>\n      <th>FTM</th>\n      <th>FTA</th>\n      <th>OR</th>\n      <th>...</th>\n      <th>OppOR</th>\n      <th>OppDR</th>\n      <th>OppAst</th>\n      <th>OppTO</th>\n      <th>OppStl</th>\n      <th>OppBlk</th>\n      <th>OppPF</th>\n      <th>Wins</th>\n      <th>Losses</th>\n      <th>NumGames</th>\n    </tr>\n  </thead>\n  <tbody>\n    <tr>\n      <th>count</th>\n      <td>7981.000000</td>\n      <td>7981.000000</td>\n      <td>7981.000000</td>\n      <td>7981.000000</td>\n      <td>7981.000000</td>\n      <td>7981.000000</td>\n      <td>7981.000000</td>\n      <td>7981.000000</td>\n      <td>7981.000000</td>\n      <td>7981.000000</td>\n      <td>...</td>\n      <td>7981.000000</td>\n      <td>7981.000000</td>\n      <td>7981.000000</td>\n      <td>7981.000000</td>\n      <td>7981.000000</td>\n      <td>7981.000000</td>\n      <td>7981.000000</td>\n      <td>7981.000000</td>\n      <td>7981.000000</td>\n      <td>7981.000000</td>\n    </tr>\n    <tr>\n      <th>mean</th>\n      <td>2074.908407</td>\n      <td>2074.908407</td>\n      <td>2.038592</td>\n      <td>730.481894</td>\n      <td>1670.609698</td>\n      <td>201.372886</td>\n      <td>586.539782</td>\n      <td>412.571733</td>\n      <td>589.485904</td>\n      <td>308.813557</td>\n      <td>...</td>\n      <td>308.813557</td>\n      <td>701.262123</td>\n      <td>387.635509</td>\n      <td>392.439669</td>\n      <td>192.658564</td>\n      <td>98.668964</td>\n      <td>540.972685</td>\n      <td>14.841373</td>\n      <td>14.841373</td>\n      <td>29.682747</td>\n    </tr>\n    <tr>\n      <th>std</th>\n      <td>283.860997</td>\n      <td>229.252643</td>\n      <td>1.767080</td>\n      <td>101.760242</td>\n      <td>193.137376</td>\n      <td>46.954447</td>\n      <td>120.412234</td>\n      <td>78.573769</td>\n      <td>107.677541</td>\n      <td>70.248796</td>\n      <td>...</td>\n      <td>58.974359</td>\n      <td>85.703983</td>\n      <td>57.324465</td>\n      <td>67.874634</td>\n      <td>31.737869</td>\n      <td>20.763284</td>\n      <td>74.427939</td>\n      <td>6.139575</td>\n      <td>5.296653</td>\n      <td>2.806203</td>\n    </tr>\n    <tr>\n      <th>min</th>\n      <td>292.000000</td>\n      <td>339.000000</td>\n      <td>0.000000</td>\n      <td>99.000000</td>\n      <td>229.000000</td>\n      <td>36.000000</td>\n      <td>104.000000</td>\n      <td>58.000000</td>\n      <td>85.000000</td>\n      <td>25.000000</td>\n      <td>...</td>\n      <td>37.000000</td>\n      <td>111.000000</td>\n      <td>80.000000</td>\n      <td>37.000000</td>\n      <td>31.000000</td>\n      <td>11.000000</td>\n      <td>75.000000</td>\n      <td>0.000000</td>\n      <td>0.000000</td>\n      <td>4.000000</td>\n    </tr>\n    <tr>\n      <th>25%</th>\n      <td>1896.000000</td>\n      <td>1947.000000</td>\n      <td>1.000000</td>\n      <td>666.000000</td>\n      <td>1561.000000</td>\n      <td>168.000000</td>\n      <td>502.000000</td>\n      <td>360.000000</td>\n      <td>520.000000</td>\n      <td>263.000000</td>\n      <td>...</td>\n      <td>271.000000</td>\n      <td>650.000000</td>\n      <td>352.000000</td>\n      <td>349.000000</td>\n      <td>172.000000</td>\n      <td>85.000000</td>\n      <td>496.000000</td>\n      <td>10.000000</td>\n      <td>11.000000</td>\n      <td>28.000000</td>\n    </tr>\n    <tr>\n      <th>50%</th>\n      <td>2081.000000</td>\n      <td>2086.000000</td>\n      <td>2.000000</td>\n      <td>731.000000</td>\n      <td>1681.000000</td>\n      <td>198.000000</td>\n      <td>580.000000</td>\n      <td>411.000000</td>\n      <td>589.000000</td>\n      <td>311.000000</td>\n      <td>...</td>\n      <td>312.000000</td>\n      <td>705.000000</td>\n      <td>388.000000</td>\n      <td>391.000000</td>\n      <td>192.000000</td>\n      <td>98.000000</td>\n      <td>543.000000</td>\n      <td>15.000000</td>\n      <td>15.000000</td>\n      <td>30.000000</td>\n    </tr>\n    <tr>\n      <th>75%</th>\n      <td>2263.000000</td>\n      <td>2223.000000</td>\n      <td>3.000000</td>\n      <td>796.000000</td>\n      <td>1796.000000</td>\n      <td>232.000000</td>\n      <td>666.000000</td>\n      <td>464.000000</td>\n      <td>658.000000</td>\n      <td>356.000000</td>\n      <td>...</td>\n      <td>349.000000</td>\n      <td>756.000000</td>\n      <td>425.000000</td>\n      <td>435.000000</td>\n      <td>213.000000</td>\n      <td>111.000000</td>\n      <td>590.000000</td>\n      <td>19.000000</td>\n      <td>19.000000</td>\n      <td>32.000000</td>\n    </tr>\n    <tr>\n      <th>max</th>\n      <td>3016.000000</td>\n      <td>2874.000000</td>\n      <td>12.000000</td>\n      <td>1113.000000</td>\n      <td>2282.000000</td>\n      <td>389.000000</td>\n      <td>1209.000000</td>\n      <td>709.000000</td>\n      <td>1020.000000</td>\n      <td>555.000000</td>\n      <td>...</td>\n      <td>523.000000</td>\n      <td>1040.000000</td>\n      <td>645.000000</td>\n      <td>704.000000</td>\n      <td>334.000000</td>\n      <td>181.000000</td>\n      <td>795.000000</td>\n      <td>34.000000</td>\n      <td>31.000000</td>\n      <td>36.000000</td>\n    </tr>\n  </tbody>\n</table>\n<p>8 rows × 32 columns</p>\n</div>"
     },
     "execution_count": 11,
     "metadata": {},
     "output_type": "execute_result"
    }
   ],
   "source": [
    "mRegSeasonDetail.describe()"
   ],
   "metadata": {
    "collapsed": false,
    "ExecuteTime": {
     "end_time": "2025-03-09T23:53:55.805608Z",
     "start_time": "2025-03-09T23:53:55.773726Z"
    }
   },
   "id": "bfaa8b31310b144f",
   "execution_count": 11
  },
  {
   "cell_type": "code",
   "outputs": [],
   "source": [
    "# Replace 0s in Losses with a small number to avoid dividing by 0\n",
    "mRegSeasonDetail['Losses'] = mRegSeasonDetail['Losses'].replace(0, 1e-5)"
   ],
   "metadata": {
    "collapsed": false,
    "ExecuteTime": {
     "end_time": "2025-03-09T23:53:55.809462Z",
     "start_time": "2025-03-09T23:53:55.807324Z"
    }
   },
   "id": "58a1b2da30413577",
   "execution_count": 12
  },
  {
   "cell_type": "code",
   "outputs": [],
   "source": [
    "# Create ___ per game stat for each boxscore stat\n",
    "mRegSeasonFeatures = pd.DataFrame()\n",
    "\n",
    "stats = ['Score', 'OppScore', 'NumOT', 'FGM', 'FGA', 'FGM3', 'FGA3', 'FTM', 'FTA',\n",
    "       'OR', 'DR', 'Ast', 'TO', 'Stl', 'Blk', 'PF', 'OppFGM', 'OppFGA',\n",
    "       'OppFGM3', 'OppFGA3', 'OppFTM', 'OppFTA', 'OppOR', 'OppDR', 'OppAst', 'OppTO',\n",
    "       'OppStl', 'OppBlk', 'OppPF']\n",
    "\n",
    "for col in stats:\n",
    "    mRegSeasonFeatures[col + '_PerGame'] = mRegSeasonDetail[col] / mRegSeasonDetail['NumGames']"
   ],
   "metadata": {
    "collapsed": false,
    "ExecuteTime": {
     "end_time": "2025-03-09T23:53:55.825871Z",
     "start_time": "2025-03-09T23:53:55.809462Z"
    }
   },
   "id": "4fdbf5f36ac02eb1",
   "execution_count": 13
  },
  {
   "cell_type": "code",
   "outputs": [],
   "source": [
    "# Create additional features\n",
    "mRegSeasonFeatures['PointRatio'] = mRegSeasonDetail['Score'] / mRegSeasonDetail['OppScore'] # Points ratio\n",
    "mRegSeasonFeatures['W/L'] = mRegSeasonDetail['Wins'] / mRegSeasonDetail['Losses'] # Win/Loss ratio\n",
    "mRegSeasonFeatures['MOV'] = (mRegSeasonDetail['Score'] - mRegSeasonDetail['OppScore']) / mRegSeasonDetail['NumGames'] # Margin of victory\n",
    "mRegSeasonFeatures['TORatio'] = mRegSeasonFeatures['TO_PerGame'] / mRegSeasonFeatures['OppTO_PerGame'] # Turnover ratio\n",
    "mRegSeasonFeatures['FGM%'] = mRegSeasonDetail['FGM'] / mRegSeasonDetail['FGA'] # Scoring efficiency \n",
    "mRegSeasonFeatures['FG3%M'] = mRegSeasonDetail['FGM3'] / mRegSeasonDetail['FGA3'] # 3-Point efficiency\n",
    "mRegSeasonFeatures['FGA3%'] = mRegSeasonDetail['FGA3'] / mRegSeasonDetail['FGA'] # 3-Point attempt rate\n",
    "mRegSeasonFeatures['FTM%'] = mRegSeasonDetail['FTM'] / mRegSeasonDetail['FTA'] # Free throw makes %\n",
    "mRegSeasonFeatures['FTA%'] = mRegSeasonDetail['FTA'] / mRegSeasonDetail['FGA'] # Free throw attempt rate\n",
    "mRegSeasonFeatures['OppFTA%'] = mRegSeasonDetail['OppFTA'] / mRegSeasonDetail['OppFGA'] # Opponent free throw attempt rate\n",
    "mRegSeasonFeatures['OR%'] = mRegSeasonDetail['OR'] / (mRegSeasonDetail['OR'] + mRegSeasonDetail['OppDR']) # Offensive rebound %\n",
    "mRegSeasonFeatures['DR%'] = mRegSeasonDetail['DR'] / (mRegSeasonDetail['DR'] + mRegSeasonDetail['OppOR']) # Defensive rebound %"
   ],
   "metadata": {
    "collapsed": false,
    "ExecuteTime": {
     "end_time": "2025-03-09T23:53:55.834034Z",
     "start_time": "2025-03-09T23:53:55.826895Z"
    }
   },
   "id": "9bf74cd56f908856",
   "execution_count": 14
  },
  {
   "cell_type": "code",
   "outputs": [
    {
     "data": {
      "text/plain": "               Score_PerGame  OppScore_PerGame  NumOT_PerGame  FGM_PerGame  \\\nSeason TeamID                                                                \n2003   1102        57.250000         57.000000       0.000000    19.142857   \n       1103        78.777778         78.148148       0.296296    27.148148   \n       1104        69.285714         65.000000       0.035714    24.035714   \n       1105        71.769231         76.653846       0.153846    24.384615   \n       1106        63.607143         63.750000       0.035714    23.428571   \n...                      ...               ...            ...          ...   \n2025   1476        67.724138         70.896552       0.000000    23.310345   \n       1477        64.354839         74.870968       0.032258    23.000000   \n       1478        72.103448         81.241379       0.241379    24.758621   \n       1479        65.785714         71.750000       0.107143    22.678571   \n       1480        67.766667         78.833333       0.000000    25.333333   \n\n               FGA_PerGame  FGM3_PerGame  FGA3_PerGame  FTM_PerGame  \\\nSeason TeamID                                                         \n2003   1102      39.785714      7.821429     20.821429    11.142857   \n       1103      55.851852      5.444444     16.074074    19.037037   \n       1104      57.178571      6.357143     19.857143    14.857143   \n       1105      61.615385      7.576923     20.769231    15.423077   \n       1106      55.285714      6.107143     17.642857    10.642857   \n...                    ...           ...           ...          ...   \n2025   1476      53.827586      8.620690     24.172414    12.482759   \n       1477      55.290323      8.387097     26.709677     9.967742   \n       1478      55.482759      7.620690     23.068966    14.965517   \n       1479      53.821429      7.000000     19.607143    13.428571   \n       1480      59.300000      5.300000     17.866667    11.800000   \n\n               FTA_PerGame  OR_PerGame  ...        MOV   TORatio      FGM%  \\\nSeason TeamID                           ...                                  \n2003   1102      17.107143    4.178571  ...   0.250000  0.881543  0.481149   \n       1103      25.851852    9.777778  ...   0.629630  0.823671  0.486074   \n       1104      20.928571   13.571429  ...   4.285714  0.958763  0.420362   \n       1105      21.846154   13.500000  ...  -4.884615  0.991820  0.395755   \n       1106      16.464286   12.285714  ...  -0.142857  1.130332  0.423773   \n...                    ...         ...  ...        ...       ...       ...   \n2025   1476      17.206897    7.034483  ...  -3.172414  1.124567  0.433056   \n       1477      15.483871    7.935484  ... -10.516129  1.121287  0.415986   \n       1478      20.862069    7.448276  ...  -9.137931  1.185535  0.446240   \n       1479      16.642857    6.214286  ...  -5.964286  0.777778  0.421367   \n       1480      17.100000    8.166667  ... -11.066667  0.969325  0.427206   \n\n                  FG3%M     FGA3%      FTM%      FTA%   OppFTA%       OR%  \\\nSeason TeamID                                                               \n2003   1102    0.375643  0.523339  0.651357  0.429982  0.453704  0.171806   \n       1103    0.338710  0.287798  0.736390  0.462865  0.388564  0.307334   \n       1104    0.320144  0.347283  0.709898  0.366021  0.308880  0.374753   \n       1105    0.364815  0.337079  0.705986  0.354557  0.415525  0.338476   \n       1106    0.346154  0.319121  0.646421  0.297804  0.411371  0.354639   \n...                 ...       ...       ...       ...       ...       ...   \n2025   1476    0.356633  0.449071  0.725451  0.319667  0.330079  0.240566   \n       1477    0.314010  0.483081  0.643750  0.280047  0.364834  0.252567   \n       1478    0.330344  0.415786  0.717355  0.376010  0.371396  0.243517   \n       1479    0.357013  0.364300  0.806867  0.309224  0.382775  0.208134   \n       1480    0.296642  0.301293  0.690058  0.288364  0.362573  0.245245   \n\n                    DR%  \nSeason TeamID            \n2003   1102    0.636486  \n       1103    0.623407  \n       1104    0.687179  \n       1105    0.636653  \n       1106    0.678173  \n...                 ...  \n2025   1476    0.715859  \n       1477    0.654444  \n       1478    0.676313  \n       1479    0.686406  \n       1480    0.730725  \n\n[7981 rows x 41 columns]",
      "text/html": "<div>\n<style scoped>\n    .dataframe tbody tr th:only-of-type {\n        vertical-align: middle;\n    }\n\n    .dataframe tbody tr th {\n        vertical-align: top;\n    }\n\n    .dataframe thead th {\n        text-align: right;\n    }\n</style>\n<table border=\"1\" class=\"dataframe\">\n  <thead>\n    <tr style=\"text-align: right;\">\n      <th></th>\n      <th></th>\n      <th>Score_PerGame</th>\n      <th>OppScore_PerGame</th>\n      <th>NumOT_PerGame</th>\n      <th>FGM_PerGame</th>\n      <th>FGA_PerGame</th>\n      <th>FGM3_PerGame</th>\n      <th>FGA3_PerGame</th>\n      <th>FTM_PerGame</th>\n      <th>FTA_PerGame</th>\n      <th>OR_PerGame</th>\n      <th>...</th>\n      <th>MOV</th>\n      <th>TORatio</th>\n      <th>FGM%</th>\n      <th>FG3%M</th>\n      <th>FGA3%</th>\n      <th>FTM%</th>\n      <th>FTA%</th>\n      <th>OppFTA%</th>\n      <th>OR%</th>\n      <th>DR%</th>\n    </tr>\n    <tr>\n      <th>Season</th>\n      <th>TeamID</th>\n      <th></th>\n      <th></th>\n      <th></th>\n      <th></th>\n      <th></th>\n      <th></th>\n      <th></th>\n      <th></th>\n      <th></th>\n      <th></th>\n      <th></th>\n      <th></th>\n      <th></th>\n      <th></th>\n      <th></th>\n      <th></th>\n      <th></th>\n      <th></th>\n      <th></th>\n      <th></th>\n      <th></th>\n    </tr>\n  </thead>\n  <tbody>\n    <tr>\n      <th rowspan=\"5\" valign=\"top\">2003</th>\n      <th>1102</th>\n      <td>57.250000</td>\n      <td>57.000000</td>\n      <td>0.000000</td>\n      <td>19.142857</td>\n      <td>39.785714</td>\n      <td>7.821429</td>\n      <td>20.821429</td>\n      <td>11.142857</td>\n      <td>17.107143</td>\n      <td>4.178571</td>\n      <td>...</td>\n      <td>0.250000</td>\n      <td>0.881543</td>\n      <td>0.481149</td>\n      <td>0.375643</td>\n      <td>0.523339</td>\n      <td>0.651357</td>\n      <td>0.429982</td>\n      <td>0.453704</td>\n      <td>0.171806</td>\n      <td>0.636486</td>\n    </tr>\n    <tr>\n      <th>1103</th>\n      <td>78.777778</td>\n      <td>78.148148</td>\n      <td>0.296296</td>\n      <td>27.148148</td>\n      <td>55.851852</td>\n      <td>5.444444</td>\n      <td>16.074074</td>\n      <td>19.037037</td>\n      <td>25.851852</td>\n      <td>9.777778</td>\n      <td>...</td>\n      <td>0.629630</td>\n      <td>0.823671</td>\n      <td>0.486074</td>\n      <td>0.338710</td>\n      <td>0.287798</td>\n      <td>0.736390</td>\n      <td>0.462865</td>\n      <td>0.388564</td>\n      <td>0.307334</td>\n      <td>0.623407</td>\n    </tr>\n    <tr>\n      <th>1104</th>\n      <td>69.285714</td>\n      <td>65.000000</td>\n      <td>0.035714</td>\n      <td>24.035714</td>\n      <td>57.178571</td>\n      <td>6.357143</td>\n      <td>19.857143</td>\n      <td>14.857143</td>\n      <td>20.928571</td>\n      <td>13.571429</td>\n      <td>...</td>\n      <td>4.285714</td>\n      <td>0.958763</td>\n      <td>0.420362</td>\n      <td>0.320144</td>\n      <td>0.347283</td>\n      <td>0.709898</td>\n      <td>0.366021</td>\n      <td>0.308880</td>\n      <td>0.374753</td>\n      <td>0.687179</td>\n    </tr>\n    <tr>\n      <th>1105</th>\n      <td>71.769231</td>\n      <td>76.653846</td>\n      <td>0.153846</td>\n      <td>24.384615</td>\n      <td>61.615385</td>\n      <td>7.576923</td>\n      <td>20.769231</td>\n      <td>15.423077</td>\n      <td>21.846154</td>\n      <td>13.500000</td>\n      <td>...</td>\n      <td>-4.884615</td>\n      <td>0.991820</td>\n      <td>0.395755</td>\n      <td>0.364815</td>\n      <td>0.337079</td>\n      <td>0.705986</td>\n      <td>0.354557</td>\n      <td>0.415525</td>\n      <td>0.338476</td>\n      <td>0.636653</td>\n    </tr>\n    <tr>\n      <th>1106</th>\n      <td>63.607143</td>\n      <td>63.750000</td>\n      <td>0.035714</td>\n      <td>23.428571</td>\n      <td>55.285714</td>\n      <td>6.107143</td>\n      <td>17.642857</td>\n      <td>10.642857</td>\n      <td>16.464286</td>\n      <td>12.285714</td>\n      <td>...</td>\n      <td>-0.142857</td>\n      <td>1.130332</td>\n      <td>0.423773</td>\n      <td>0.346154</td>\n      <td>0.319121</td>\n      <td>0.646421</td>\n      <td>0.297804</td>\n      <td>0.411371</td>\n      <td>0.354639</td>\n      <td>0.678173</td>\n    </tr>\n    <tr>\n      <th>...</th>\n      <th>...</th>\n      <td>...</td>\n      <td>...</td>\n      <td>...</td>\n      <td>...</td>\n      <td>...</td>\n      <td>...</td>\n      <td>...</td>\n      <td>...</td>\n      <td>...</td>\n      <td>...</td>\n      <td>...</td>\n      <td>...</td>\n      <td>...</td>\n      <td>...</td>\n      <td>...</td>\n      <td>...</td>\n      <td>...</td>\n      <td>...</td>\n      <td>...</td>\n      <td>...</td>\n      <td>...</td>\n    </tr>\n    <tr>\n      <th rowspan=\"5\" valign=\"top\">2025</th>\n      <th>1476</th>\n      <td>67.724138</td>\n      <td>70.896552</td>\n      <td>0.000000</td>\n      <td>23.310345</td>\n      <td>53.827586</td>\n      <td>8.620690</td>\n      <td>24.172414</td>\n      <td>12.482759</td>\n      <td>17.206897</td>\n      <td>7.034483</td>\n      <td>...</td>\n      <td>-3.172414</td>\n      <td>1.124567</td>\n      <td>0.433056</td>\n      <td>0.356633</td>\n      <td>0.449071</td>\n      <td>0.725451</td>\n      <td>0.319667</td>\n      <td>0.330079</td>\n      <td>0.240566</td>\n      <td>0.715859</td>\n    </tr>\n    <tr>\n      <th>1477</th>\n      <td>64.354839</td>\n      <td>74.870968</td>\n      <td>0.032258</td>\n      <td>23.000000</td>\n      <td>55.290323</td>\n      <td>8.387097</td>\n      <td>26.709677</td>\n      <td>9.967742</td>\n      <td>15.483871</td>\n      <td>7.935484</td>\n      <td>...</td>\n      <td>-10.516129</td>\n      <td>1.121287</td>\n      <td>0.415986</td>\n      <td>0.314010</td>\n      <td>0.483081</td>\n      <td>0.643750</td>\n      <td>0.280047</td>\n      <td>0.364834</td>\n      <td>0.252567</td>\n      <td>0.654444</td>\n    </tr>\n    <tr>\n      <th>1478</th>\n      <td>72.103448</td>\n      <td>81.241379</td>\n      <td>0.241379</td>\n      <td>24.758621</td>\n      <td>55.482759</td>\n      <td>7.620690</td>\n      <td>23.068966</td>\n      <td>14.965517</td>\n      <td>20.862069</td>\n      <td>7.448276</td>\n      <td>...</td>\n      <td>-9.137931</td>\n      <td>1.185535</td>\n      <td>0.446240</td>\n      <td>0.330344</td>\n      <td>0.415786</td>\n      <td>0.717355</td>\n      <td>0.376010</td>\n      <td>0.371396</td>\n      <td>0.243517</td>\n      <td>0.676313</td>\n    </tr>\n    <tr>\n      <th>1479</th>\n      <td>65.785714</td>\n      <td>71.750000</td>\n      <td>0.107143</td>\n      <td>22.678571</td>\n      <td>53.821429</td>\n      <td>7.000000</td>\n      <td>19.607143</td>\n      <td>13.428571</td>\n      <td>16.642857</td>\n      <td>6.214286</td>\n      <td>...</td>\n      <td>-5.964286</td>\n      <td>0.777778</td>\n      <td>0.421367</td>\n      <td>0.357013</td>\n      <td>0.364300</td>\n      <td>0.806867</td>\n      <td>0.309224</td>\n      <td>0.382775</td>\n      <td>0.208134</td>\n      <td>0.686406</td>\n    </tr>\n    <tr>\n      <th>1480</th>\n      <td>67.766667</td>\n      <td>78.833333</td>\n      <td>0.000000</td>\n      <td>25.333333</td>\n      <td>59.300000</td>\n      <td>5.300000</td>\n      <td>17.866667</td>\n      <td>11.800000</td>\n      <td>17.100000</td>\n      <td>8.166667</td>\n      <td>...</td>\n      <td>-11.066667</td>\n      <td>0.969325</td>\n      <td>0.427206</td>\n      <td>0.296642</td>\n      <td>0.301293</td>\n      <td>0.690058</td>\n      <td>0.288364</td>\n      <td>0.362573</td>\n      <td>0.245245</td>\n      <td>0.730725</td>\n    </tr>\n  </tbody>\n</table>\n<p>7981 rows × 41 columns</p>\n</div>"
     },
     "execution_count": 15,
     "metadata": {},
     "output_type": "execute_result"
    }
   ],
   "source": [
    "mRegSeasonFeatures"
   ],
   "metadata": {
    "collapsed": false,
    "ExecuteTime": {
     "end_time": "2025-03-09T23:53:55.851828Z",
     "start_time": "2025-03-09T23:53:55.834034Z"
    }
   },
   "id": "7ab0f9388383e46a",
   "execution_count": 15
  },
  {
   "cell_type": "code",
   "outputs": [
    {
     "data": {
      "text/plain": "      Season  DayNum  WTeamID  WScore  LTeamID  LScore WLoc  NumOT\n0       1985     136     1116      63     1234      54    N      0\n1       1985     136     1120      59     1345      58    N      0\n2       1985     136     1207      68     1250      43    N      0\n3       1985     136     1229      58     1425      55    N      0\n4       1985     136     1242      49     1325      38    N      0\n...      ...     ...      ...     ...      ...     ...  ...    ...\n2513    2024     146     1301      76     1181      64    N      0\n2514    2024     146     1345      72     1397      66    N      0\n2515    2024     152     1163      86     1104      72    N      0\n2516    2024     152     1345      63     1301      50    N      0\n2517    2024     154     1163      75     1345      60    N      0\n\n[2518 rows x 8 columns]",
      "text/html": "<div>\n<style scoped>\n    .dataframe tbody tr th:only-of-type {\n        vertical-align: middle;\n    }\n\n    .dataframe tbody tr th {\n        vertical-align: top;\n    }\n\n    .dataframe thead th {\n        text-align: right;\n    }\n</style>\n<table border=\"1\" class=\"dataframe\">\n  <thead>\n    <tr style=\"text-align: right;\">\n      <th></th>\n      <th>Season</th>\n      <th>DayNum</th>\n      <th>WTeamID</th>\n      <th>WScore</th>\n      <th>LTeamID</th>\n      <th>LScore</th>\n      <th>WLoc</th>\n      <th>NumOT</th>\n    </tr>\n  </thead>\n  <tbody>\n    <tr>\n      <th>0</th>\n      <td>1985</td>\n      <td>136</td>\n      <td>1116</td>\n      <td>63</td>\n      <td>1234</td>\n      <td>54</td>\n      <td>N</td>\n      <td>0</td>\n    </tr>\n    <tr>\n      <th>1</th>\n      <td>1985</td>\n      <td>136</td>\n      <td>1120</td>\n      <td>59</td>\n      <td>1345</td>\n      <td>58</td>\n      <td>N</td>\n      <td>0</td>\n    </tr>\n    <tr>\n      <th>2</th>\n      <td>1985</td>\n      <td>136</td>\n      <td>1207</td>\n      <td>68</td>\n      <td>1250</td>\n      <td>43</td>\n      <td>N</td>\n      <td>0</td>\n    </tr>\n    <tr>\n      <th>3</th>\n      <td>1985</td>\n      <td>136</td>\n      <td>1229</td>\n      <td>58</td>\n      <td>1425</td>\n      <td>55</td>\n      <td>N</td>\n      <td>0</td>\n    </tr>\n    <tr>\n      <th>4</th>\n      <td>1985</td>\n      <td>136</td>\n      <td>1242</td>\n      <td>49</td>\n      <td>1325</td>\n      <td>38</td>\n      <td>N</td>\n      <td>0</td>\n    </tr>\n    <tr>\n      <th>...</th>\n      <td>...</td>\n      <td>...</td>\n      <td>...</td>\n      <td>...</td>\n      <td>...</td>\n      <td>...</td>\n      <td>...</td>\n      <td>...</td>\n    </tr>\n    <tr>\n      <th>2513</th>\n      <td>2024</td>\n      <td>146</td>\n      <td>1301</td>\n      <td>76</td>\n      <td>1181</td>\n      <td>64</td>\n      <td>N</td>\n      <td>0</td>\n    </tr>\n    <tr>\n      <th>2514</th>\n      <td>2024</td>\n      <td>146</td>\n      <td>1345</td>\n      <td>72</td>\n      <td>1397</td>\n      <td>66</td>\n      <td>N</td>\n      <td>0</td>\n    </tr>\n    <tr>\n      <th>2515</th>\n      <td>2024</td>\n      <td>152</td>\n      <td>1163</td>\n      <td>86</td>\n      <td>1104</td>\n      <td>72</td>\n      <td>N</td>\n      <td>0</td>\n    </tr>\n    <tr>\n      <th>2516</th>\n      <td>2024</td>\n      <td>152</td>\n      <td>1345</td>\n      <td>63</td>\n      <td>1301</td>\n      <td>50</td>\n      <td>N</td>\n      <td>0</td>\n    </tr>\n    <tr>\n      <th>2517</th>\n      <td>2024</td>\n      <td>154</td>\n      <td>1163</td>\n      <td>75</td>\n      <td>1345</td>\n      <td>60</td>\n      <td>N</td>\n      <td>0</td>\n    </tr>\n  </tbody>\n</table>\n<p>2518 rows × 8 columns</p>\n</div>"
     },
     "execution_count": 16,
     "metadata": {},
     "output_type": "execute_result"
    }
   ],
   "source": [
    "mTournCompact"
   ],
   "metadata": {
    "collapsed": false,
    "ExecuteTime": {
     "end_time": "2025-03-09T23:53:55.856776Z",
     "start_time": "2025-03-09T23:53:55.851828Z"
    }
   },
   "id": "4d8063d1e06a234d",
   "execution_count": 16
  },
  {
   "cell_type": "code",
   "outputs": [],
   "source": [
    "# Split compact tournament results into individual rows of winners and losers to introduce target feature \"Result\"\n",
    "mWTourney = pd.DataFrame()\n",
    "mWTourney[['Season', 'Team1', 'Team2']] = mTournCompact[['Season', 'WTeamID', 'LTeamID']]\n",
    "mWTourney['Result'] = 1\n",
    "\n",
    "mLTourney = pd.DataFrame()\n",
    "mLTourney[['Season', 'Team1', 'Team2']] = mTournCompact[['Season', 'LTeamID', 'WTeamID']]\n",
    "mLTourney['Result'] = 0\n",
    "\n",
    "# Join individual together and drop games earlier than 03 to match up with regular season data\n",
    "mTourneyInput = pd.concat([mWTourney, mLTourney])\n",
    "mTourneyInput = mTourneyInput[mTourneyInput['Season'] >= 2003].reset_index(drop=True)"
   ],
   "metadata": {
    "collapsed": false,
    "ExecuteTime": {
     "end_time": "2025-03-09T23:53:55.870031Z",
     "start_time": "2025-03-09T23:53:55.856776Z"
    }
   },
   "id": "20c7654251f5750",
   "execution_count": 17
  },
  {
   "cell_type": "code",
   "outputs": [
    {
     "data": {
      "text/plain": "      Season  Team1  Team2  Result\n0       2003   1421   1411       1\n1       2003   1112   1436       1\n2       2003   1113   1272       1\n3       2003   1141   1166       1\n4       2003   1143   1301       1\n...      ...    ...    ...     ...\n2759    2024   1181   1301       0\n2760    2024   1397   1345       0\n2761    2024   1104   1163       0\n2762    2024   1301   1345       0\n2763    2024   1345   1163       0\n\n[2764 rows x 4 columns]",
      "text/html": "<div>\n<style scoped>\n    .dataframe tbody tr th:only-of-type {\n        vertical-align: middle;\n    }\n\n    .dataframe tbody tr th {\n        vertical-align: top;\n    }\n\n    .dataframe thead th {\n        text-align: right;\n    }\n</style>\n<table border=\"1\" class=\"dataframe\">\n  <thead>\n    <tr style=\"text-align: right;\">\n      <th></th>\n      <th>Season</th>\n      <th>Team1</th>\n      <th>Team2</th>\n      <th>Result</th>\n    </tr>\n  </thead>\n  <tbody>\n    <tr>\n      <th>0</th>\n      <td>2003</td>\n      <td>1421</td>\n      <td>1411</td>\n      <td>1</td>\n    </tr>\n    <tr>\n      <th>1</th>\n      <td>2003</td>\n      <td>1112</td>\n      <td>1436</td>\n      <td>1</td>\n    </tr>\n    <tr>\n      <th>2</th>\n      <td>2003</td>\n      <td>1113</td>\n      <td>1272</td>\n      <td>1</td>\n    </tr>\n    <tr>\n      <th>3</th>\n      <td>2003</td>\n      <td>1141</td>\n      <td>1166</td>\n      <td>1</td>\n    </tr>\n    <tr>\n      <th>4</th>\n      <td>2003</td>\n      <td>1143</td>\n      <td>1301</td>\n      <td>1</td>\n    </tr>\n    <tr>\n      <th>...</th>\n      <td>...</td>\n      <td>...</td>\n      <td>...</td>\n      <td>...</td>\n    </tr>\n    <tr>\n      <th>2759</th>\n      <td>2024</td>\n      <td>1181</td>\n      <td>1301</td>\n      <td>0</td>\n    </tr>\n    <tr>\n      <th>2760</th>\n      <td>2024</td>\n      <td>1397</td>\n      <td>1345</td>\n      <td>0</td>\n    </tr>\n    <tr>\n      <th>2761</th>\n      <td>2024</td>\n      <td>1104</td>\n      <td>1163</td>\n      <td>0</td>\n    </tr>\n    <tr>\n      <th>2762</th>\n      <td>2024</td>\n      <td>1301</td>\n      <td>1345</td>\n      <td>0</td>\n    </tr>\n    <tr>\n      <th>2763</th>\n      <td>2024</td>\n      <td>1345</td>\n      <td>1163</td>\n      <td>0</td>\n    </tr>\n  </tbody>\n</table>\n<p>2764 rows × 4 columns</p>\n</div>"
     },
     "execution_count": 18,
     "metadata": {},
     "output_type": "execute_result"
    }
   ],
   "source": [
    "mTourneyInput"
   ],
   "metadata": {
    "collapsed": false,
    "ExecuteTime": {
     "end_time": "2025-03-09T23:53:55.881394Z",
     "start_time": "2025-03-09T23:53:55.870031Z"
    }
   },
   "id": "c66d09e57dad500b",
   "execution_count": 18
  },
  {
   "cell_type": "code",
   "outputs": [],
   "source": [
    "# Merge two team stats from mRegSeasonFeatures\n",
    "mTourneyFinal = mTourneyInput.merge(mRegSeasonFeatures, left_on=['Season', 'Team1'], right_index=True, suffixes=('', '_T1'))\n",
    "mTourneyFinal = mTourneyFinal.merge(mRegSeasonFeatures, left_on=['Season', 'Team2'], right_index=True, suffixes=('_T1', '_T2'))\n",
    "\n",
    "# Drop columns that are not needed\n",
    "mTourneyFinal.drop(columns=['Season', 'Team1', 'Team2'], inplace=True)\n",
    "\n",
    "# Calculate the differences (Team1 - Team2) for the features for input to logistic regression\n",
    "featureCols = [col for col in mRegSeasonFeatures if col not in ['Season', 'TeamID']]\n",
    "for col in featureCols:\n",
    "       mTourneyFinal[col + '_Diff'] = mTourneyFinal[col + '_T1'] - mTourneyFinal[col + '_T2']\n",
    "       \n",
    "# Drop all _T1 and _T2, keep only _Diff and Result\n",
    "mTourneyFinal = mTourneyFinal[[col + '_Diff' for col in featureCols] + ['Result']]"
   ],
   "metadata": {
    "collapsed": false,
    "ExecuteTime": {
     "end_time": "2025-03-09T23:53:55.911406Z",
     "start_time": "2025-03-09T23:53:55.881394Z"
    }
   },
   "id": "9c860d12295d5b03",
   "execution_count": 19
  },
  {
   "cell_type": "code",
   "outputs": [
    {
     "data": {
      "text/plain": "      Score_PerGame_Diff  OppScore_PerGame_Diff  NumOT_PerGame_Diff  \\\n0              -1.593103               7.614943            0.139080   \n1              17.421182               7.112069            0.002463   \n2               1.448276               3.344828            0.034483   \n3               0.102403               8.908046           -0.030303   \n4               2.082759               1.758621            0.070115   \n...                  ...                    ...                 ...   \n2759            3.482639              -5.256944           -0.083333   \n2760           -3.925189              -2.276515           -0.090909   \n2761            9.279412              16.650735            0.062500   \n2762           -7.032828               2.542929           -0.007576   \n2763            1.923351               5.739750            0.090909   \n\n      FGM_PerGame_Diff  FGA_PerGame_Diff  FGM3_PerGame_Diff  \\\n0            -0.354023          1.526437           0.549425   \n1             5.493842          9.852217           1.759852   \n2             0.931034         -3.103448          -3.000000   \n3            -2.076280         -4.764890          -1.142111   \n4             3.011494          5.390805          -1.552874   \n...                ...               ...                ...   \n2759          1.142361         -1.753472           1.288194   \n2760         -1.077652          3.356061           0.385417   \n2761          1.818015          6.102941           2.268382   \n2762         -1.126263          2.578283          -1.277778   \n2763         -0.573084         -0.253119          -0.460784   \n\n      FGA3_PerGame_Diff  FTM_PerGame_Diff  FTA_PerGame_Diff  OR_PerGame_Diff  \\\n0             -0.500000         -1.434483         -7.135632        -0.890805   \n1              4.588670          4.673645          5.448276         2.213054   \n2             -7.482759          2.586207          3.310345        -0.379310   \n3             -2.553814          5.397074          5.142111        -0.292581   \n4             -5.465517         -2.387356         -0.949425         1.508046   \n...                 ...               ...               ...              ...   \n2759           1.736111         -0.090278          0.194444        -0.055556   \n2760           5.075758         -2.155303         -3.812500        -0.280303   \n2761           6.310662          3.375000          3.283088         0.943015   \n2762          -0.035354         -3.502525         -5.194444        -1.974747   \n2763          -3.546346          3.530303          5.470588         0.942068   \n\n      ...  TORatio_Diff  FGM%_Diff  FG3%M_Diff  FGA3%_Diff  FTM%_Diff  \\\n0     ...      0.200650  -0.018262    0.039433   -0.017801   0.142815   \n1     ...     -0.205109   0.016969    0.009777    0.028274   0.043580   \n2     ...     -0.013110   0.040251   -0.030989   -0.113271   0.016122   \n3     ...      0.351889   0.005763   -0.008284   -0.016226   0.072864   \n4     ...     -0.021196   0.009399    0.022444   -0.131799  -0.084846   \n...   ...           ...        ...         ...         ...        ...   \n2759  ...      0.061522   0.032591    0.031070    0.039218  -0.011645   \n2760  ...     -0.355366  -0.043992   -0.066100    0.063189   0.028050   \n2761  ...      0.143301  -0.018671   -0.001546    0.058938   0.041092   \n2762  ...     -0.354789  -0.039121   -0.061963   -0.015370   0.012308   \n2763  ...      0.249076  -0.007664    0.041141   -0.058960  -0.021258   \n\n      FTA%_Diff  OppFTA%_Diff  OR%_Diff  DR%_Diff  Result  \n0     -0.139292      0.059755 -0.015697 -0.047099       1  \n1      0.030435     -0.012280  0.022337 -0.050163       1  \n2      0.078997      0.010485  0.026172  0.001629       1  \n3      0.129120      0.077414  0.021658 -0.021651       1  \n4     -0.051395     -0.102222  0.015999  0.009181       1  \n...         ...           ...       ...       ...     ...  \n2759   0.012902     -0.043363  0.024170  0.024492       0  \n2760  -0.085009      0.127730 -0.050729 -0.036588       0  \n2761   0.019318      0.071454 -0.018376 -0.046929       0  \n2762  -0.103297      0.089519 -0.098329 -0.031517       0  \n2763   0.095128     -0.094833  0.015935 -0.001183       0  \n\n[2764 rows x 42 columns]",
      "text/html": "<div>\n<style scoped>\n    .dataframe tbody tr th:only-of-type {\n        vertical-align: middle;\n    }\n\n    .dataframe tbody tr th {\n        vertical-align: top;\n    }\n\n    .dataframe thead th {\n        text-align: right;\n    }\n</style>\n<table border=\"1\" class=\"dataframe\">\n  <thead>\n    <tr style=\"text-align: right;\">\n      <th></th>\n      <th>Score_PerGame_Diff</th>\n      <th>OppScore_PerGame_Diff</th>\n      <th>NumOT_PerGame_Diff</th>\n      <th>FGM_PerGame_Diff</th>\n      <th>FGA_PerGame_Diff</th>\n      <th>FGM3_PerGame_Diff</th>\n      <th>FGA3_PerGame_Diff</th>\n      <th>FTM_PerGame_Diff</th>\n      <th>FTA_PerGame_Diff</th>\n      <th>OR_PerGame_Diff</th>\n      <th>...</th>\n      <th>TORatio_Diff</th>\n      <th>FGM%_Diff</th>\n      <th>FG3%M_Diff</th>\n      <th>FGA3%_Diff</th>\n      <th>FTM%_Diff</th>\n      <th>FTA%_Diff</th>\n      <th>OppFTA%_Diff</th>\n      <th>OR%_Diff</th>\n      <th>DR%_Diff</th>\n      <th>Result</th>\n    </tr>\n  </thead>\n  <tbody>\n    <tr>\n      <th>0</th>\n      <td>-1.593103</td>\n      <td>7.614943</td>\n      <td>0.139080</td>\n      <td>-0.354023</td>\n      <td>1.526437</td>\n      <td>0.549425</td>\n      <td>-0.500000</td>\n      <td>-1.434483</td>\n      <td>-7.135632</td>\n      <td>-0.890805</td>\n      <td>...</td>\n      <td>0.200650</td>\n      <td>-0.018262</td>\n      <td>0.039433</td>\n      <td>-0.017801</td>\n      <td>0.142815</td>\n      <td>-0.139292</td>\n      <td>0.059755</td>\n      <td>-0.015697</td>\n      <td>-0.047099</td>\n      <td>1</td>\n    </tr>\n    <tr>\n      <th>1</th>\n      <td>17.421182</td>\n      <td>7.112069</td>\n      <td>0.002463</td>\n      <td>5.493842</td>\n      <td>9.852217</td>\n      <td>1.759852</td>\n      <td>4.588670</td>\n      <td>4.673645</td>\n      <td>5.448276</td>\n      <td>2.213054</td>\n      <td>...</td>\n      <td>-0.205109</td>\n      <td>0.016969</td>\n      <td>0.009777</td>\n      <td>0.028274</td>\n      <td>0.043580</td>\n      <td>0.030435</td>\n      <td>-0.012280</td>\n      <td>0.022337</td>\n      <td>-0.050163</td>\n      <td>1</td>\n    </tr>\n    <tr>\n      <th>2</th>\n      <td>1.448276</td>\n      <td>3.344828</td>\n      <td>0.034483</td>\n      <td>0.931034</td>\n      <td>-3.103448</td>\n      <td>-3.000000</td>\n      <td>-7.482759</td>\n      <td>2.586207</td>\n      <td>3.310345</td>\n      <td>-0.379310</td>\n      <td>...</td>\n      <td>-0.013110</td>\n      <td>0.040251</td>\n      <td>-0.030989</td>\n      <td>-0.113271</td>\n      <td>0.016122</td>\n      <td>0.078997</td>\n      <td>0.010485</td>\n      <td>0.026172</td>\n      <td>0.001629</td>\n      <td>1</td>\n    </tr>\n    <tr>\n      <th>3</th>\n      <td>0.102403</td>\n      <td>8.908046</td>\n      <td>-0.030303</td>\n      <td>-2.076280</td>\n      <td>-4.764890</td>\n      <td>-1.142111</td>\n      <td>-2.553814</td>\n      <td>5.397074</td>\n      <td>5.142111</td>\n      <td>-0.292581</td>\n      <td>...</td>\n      <td>0.351889</td>\n      <td>0.005763</td>\n      <td>-0.008284</td>\n      <td>-0.016226</td>\n      <td>0.072864</td>\n      <td>0.129120</td>\n      <td>0.077414</td>\n      <td>0.021658</td>\n      <td>-0.021651</td>\n      <td>1</td>\n    </tr>\n    <tr>\n      <th>4</th>\n      <td>2.082759</td>\n      <td>1.758621</td>\n      <td>0.070115</td>\n      <td>3.011494</td>\n      <td>5.390805</td>\n      <td>-1.552874</td>\n      <td>-5.465517</td>\n      <td>-2.387356</td>\n      <td>-0.949425</td>\n      <td>1.508046</td>\n      <td>...</td>\n      <td>-0.021196</td>\n      <td>0.009399</td>\n      <td>0.022444</td>\n      <td>-0.131799</td>\n      <td>-0.084846</td>\n      <td>-0.051395</td>\n      <td>-0.102222</td>\n      <td>0.015999</td>\n      <td>0.009181</td>\n      <td>1</td>\n    </tr>\n    <tr>\n      <th>...</th>\n      <td>...</td>\n      <td>...</td>\n      <td>...</td>\n      <td>...</td>\n      <td>...</td>\n      <td>...</td>\n      <td>...</td>\n      <td>...</td>\n      <td>...</td>\n      <td>...</td>\n      <td>...</td>\n      <td>...</td>\n      <td>...</td>\n      <td>...</td>\n      <td>...</td>\n      <td>...</td>\n      <td>...</td>\n      <td>...</td>\n      <td>...</td>\n      <td>...</td>\n      <td>...</td>\n    </tr>\n    <tr>\n      <th>2759</th>\n      <td>3.482639</td>\n      <td>-5.256944</td>\n      <td>-0.083333</td>\n      <td>1.142361</td>\n      <td>-1.753472</td>\n      <td>1.288194</td>\n      <td>1.736111</td>\n      <td>-0.090278</td>\n      <td>0.194444</td>\n      <td>-0.055556</td>\n      <td>...</td>\n      <td>0.061522</td>\n      <td>0.032591</td>\n      <td>0.031070</td>\n      <td>0.039218</td>\n      <td>-0.011645</td>\n      <td>0.012902</td>\n      <td>-0.043363</td>\n      <td>0.024170</td>\n      <td>0.024492</td>\n      <td>0</td>\n    </tr>\n    <tr>\n      <th>2760</th>\n      <td>-3.925189</td>\n      <td>-2.276515</td>\n      <td>-0.090909</td>\n      <td>-1.077652</td>\n      <td>3.356061</td>\n      <td>0.385417</td>\n      <td>5.075758</td>\n      <td>-2.155303</td>\n      <td>-3.812500</td>\n      <td>-0.280303</td>\n      <td>...</td>\n      <td>-0.355366</td>\n      <td>-0.043992</td>\n      <td>-0.066100</td>\n      <td>0.063189</td>\n      <td>0.028050</td>\n      <td>-0.085009</td>\n      <td>0.127730</td>\n      <td>-0.050729</td>\n      <td>-0.036588</td>\n      <td>0</td>\n    </tr>\n    <tr>\n      <th>2761</th>\n      <td>9.279412</td>\n      <td>16.650735</td>\n      <td>0.062500</td>\n      <td>1.818015</td>\n      <td>6.102941</td>\n      <td>2.268382</td>\n      <td>6.310662</td>\n      <td>3.375000</td>\n      <td>3.283088</td>\n      <td>0.943015</td>\n      <td>...</td>\n      <td>0.143301</td>\n      <td>-0.018671</td>\n      <td>-0.001546</td>\n      <td>0.058938</td>\n      <td>0.041092</td>\n      <td>0.019318</td>\n      <td>0.071454</td>\n      <td>-0.018376</td>\n      <td>-0.046929</td>\n      <td>0</td>\n    </tr>\n    <tr>\n      <th>2762</th>\n      <td>-7.032828</td>\n      <td>2.542929</td>\n      <td>-0.007576</td>\n      <td>-1.126263</td>\n      <td>2.578283</td>\n      <td>-1.277778</td>\n      <td>-0.035354</td>\n      <td>-3.502525</td>\n      <td>-5.194444</td>\n      <td>-1.974747</td>\n      <td>...</td>\n      <td>-0.354789</td>\n      <td>-0.039121</td>\n      <td>-0.061963</td>\n      <td>-0.015370</td>\n      <td>0.012308</td>\n      <td>-0.103297</td>\n      <td>0.089519</td>\n      <td>-0.098329</td>\n      <td>-0.031517</td>\n      <td>0</td>\n    </tr>\n    <tr>\n      <th>2763</th>\n      <td>1.923351</td>\n      <td>5.739750</td>\n      <td>0.090909</td>\n      <td>-0.573084</td>\n      <td>-0.253119</td>\n      <td>-0.460784</td>\n      <td>-3.546346</td>\n      <td>3.530303</td>\n      <td>5.470588</td>\n      <td>0.942068</td>\n      <td>...</td>\n      <td>0.249076</td>\n      <td>-0.007664</td>\n      <td>0.041141</td>\n      <td>-0.058960</td>\n      <td>-0.021258</td>\n      <td>0.095128</td>\n      <td>-0.094833</td>\n      <td>0.015935</td>\n      <td>-0.001183</td>\n      <td>0</td>\n    </tr>\n  </tbody>\n</table>\n<p>2764 rows × 42 columns</p>\n</div>"
     },
     "execution_count": 20,
     "metadata": {},
     "output_type": "execute_result"
    }
   ],
   "source": [
    "mTourneyFinal"
   ],
   "metadata": {
    "collapsed": false,
    "ExecuteTime": {
     "end_time": "2025-03-09T23:53:55.921173Z",
     "start_time": "2025-03-09T23:53:55.911406Z"
    }
   },
   "id": "86b069947466033e",
   "execution_count": 20
  },
  {
   "cell_type": "code",
   "outputs": [
    {
     "data": {
      "text/plain": "       Score_PerGame_Diff  OppScore_PerGame_Diff  NumOT_PerGame_Diff  \\\ncount         2764.000000            2764.000000         2764.000000   \nmean             0.000000               0.000000            0.000000   \nstd              7.312093               6.355166            0.072274   \nmin            -22.892857             -25.035714           -0.293169   \n25%             -4.857429              -4.330079           -0.035104   \n50%              0.000000               0.000000            0.000000   \n75%              4.857429               4.330079            0.035104   \nmax             22.892857              25.035714            0.293169   \n\n       FGM_PerGame_Diff  FGA_PerGame_Diff  FGM3_PerGame_Diff  \\\ncount       2764.000000      2.764000e+03        2764.000000   \nmean           0.000000      8.226255e-17           0.000000   \nstd            2.914355      4.695264e+00           1.806670   \nmin           -9.357143     -2.207143e+01          -6.062500   \n25%           -1.987506     -3.081258e+00          -1.211338   \n50%            0.000000      0.000000e+00           0.000000   \n75%            1.987506      3.081258e+00           1.211338   \nmax            9.357143      2.207143e+01           6.062500   \n\n       FGA3_PerGame_Diff  FTM_PerGame_Diff  FTA_PerGame_Diff  OR_PerGame_Diff  \\\ncount       2.764000e+03       2764.000000       2764.000000      2764.000000   \nmean        1.028282e-17          0.000000          0.000000         0.000000   \nstd         4.223095e+00          2.702947          3.648958         2.494943   \nmin        -1.427849e+01        -10.205882        -13.094118        -9.214286   \n25%        -2.766433e+00         -1.836522         -2.405540        -1.675716   \n50%         0.000000e+00          0.000000          0.000000         0.000000   \n75%         2.766433e+00          1.836522          2.405540         1.675716   \nmax         1.427849e+01         10.205882         13.094118         9.214286   \n\n       ...  TORatio_Diff    FGM%_Diff   FG3%M_Diff    FGA3%_Diff    FTM%_Diff  \\\ncount  ...   2764.000000  2764.000000  2764.000000  2.764000e+03  2764.000000   \nmean   ...      0.000000     0.000000     0.000000 -1.606690e-19     0.000000   \nstd    ...      0.195575     0.032604     0.037261  7.191683e-02     0.050658   \nmin    ...     -0.606506    -0.135937    -0.139760 -2.727839e-01    -0.172779   \n25%    ...     -0.136510    -0.021822    -0.023834 -4.953287e-02    -0.034681   \n50%    ...      0.000000     0.000000     0.000000  0.000000e+00     0.000000   \n75%    ...      0.136510     0.021822     0.023834  4.953287e-02     0.034681   \nmax    ...      0.606506     0.135937     0.139760  2.727839e-01     0.172779   \n\n          FTA%_Diff  OppFTA%_Diff     OR%_Diff      DR%_Diff      Result  \ncount  2.764000e+03   2764.000000  2764.000000  2.764000e+03  2764.00000  \nmean   3.213381e-19      0.000000     0.000000 -1.606690e-19     0.50000  \nstd    6.419949e-02      0.079799     0.056490  4.051447e-02     0.50009  \nmin   -2.451213e-01     -0.289826    -0.191864 -1.449883e-01     0.00000  \n25%   -4.227682e-02     -0.055724    -0.037664 -2.744192e-02     0.00000  \n50%    0.000000e+00      0.000000     0.000000  0.000000e+00     0.50000  \n75%    4.227682e-02      0.055724     0.037664  2.744192e-02     1.00000  \nmax    2.451213e-01      0.289826     0.191864  1.449883e-01     1.00000  \n\n[8 rows x 42 columns]",
      "text/html": "<div>\n<style scoped>\n    .dataframe tbody tr th:only-of-type {\n        vertical-align: middle;\n    }\n\n    .dataframe tbody tr th {\n        vertical-align: top;\n    }\n\n    .dataframe thead th {\n        text-align: right;\n    }\n</style>\n<table border=\"1\" class=\"dataframe\">\n  <thead>\n    <tr style=\"text-align: right;\">\n      <th></th>\n      <th>Score_PerGame_Diff</th>\n      <th>OppScore_PerGame_Diff</th>\n      <th>NumOT_PerGame_Diff</th>\n      <th>FGM_PerGame_Diff</th>\n      <th>FGA_PerGame_Diff</th>\n      <th>FGM3_PerGame_Diff</th>\n      <th>FGA3_PerGame_Diff</th>\n      <th>FTM_PerGame_Diff</th>\n      <th>FTA_PerGame_Diff</th>\n      <th>OR_PerGame_Diff</th>\n      <th>...</th>\n      <th>TORatio_Diff</th>\n      <th>FGM%_Diff</th>\n      <th>FG3%M_Diff</th>\n      <th>FGA3%_Diff</th>\n      <th>FTM%_Diff</th>\n      <th>FTA%_Diff</th>\n      <th>OppFTA%_Diff</th>\n      <th>OR%_Diff</th>\n      <th>DR%_Diff</th>\n      <th>Result</th>\n    </tr>\n  </thead>\n  <tbody>\n    <tr>\n      <th>count</th>\n      <td>2764.000000</td>\n      <td>2764.000000</td>\n      <td>2764.000000</td>\n      <td>2764.000000</td>\n      <td>2.764000e+03</td>\n      <td>2764.000000</td>\n      <td>2.764000e+03</td>\n      <td>2764.000000</td>\n      <td>2764.000000</td>\n      <td>2764.000000</td>\n      <td>...</td>\n      <td>2764.000000</td>\n      <td>2764.000000</td>\n      <td>2764.000000</td>\n      <td>2.764000e+03</td>\n      <td>2764.000000</td>\n      <td>2.764000e+03</td>\n      <td>2764.000000</td>\n      <td>2764.000000</td>\n      <td>2.764000e+03</td>\n      <td>2764.00000</td>\n    </tr>\n    <tr>\n      <th>mean</th>\n      <td>0.000000</td>\n      <td>0.000000</td>\n      <td>0.000000</td>\n      <td>0.000000</td>\n      <td>8.226255e-17</td>\n      <td>0.000000</td>\n      <td>1.028282e-17</td>\n      <td>0.000000</td>\n      <td>0.000000</td>\n      <td>0.000000</td>\n      <td>...</td>\n      <td>0.000000</td>\n      <td>0.000000</td>\n      <td>0.000000</td>\n      <td>-1.606690e-19</td>\n      <td>0.000000</td>\n      <td>3.213381e-19</td>\n      <td>0.000000</td>\n      <td>0.000000</td>\n      <td>-1.606690e-19</td>\n      <td>0.50000</td>\n    </tr>\n    <tr>\n      <th>std</th>\n      <td>7.312093</td>\n      <td>6.355166</td>\n      <td>0.072274</td>\n      <td>2.914355</td>\n      <td>4.695264e+00</td>\n      <td>1.806670</td>\n      <td>4.223095e+00</td>\n      <td>2.702947</td>\n      <td>3.648958</td>\n      <td>2.494943</td>\n      <td>...</td>\n      <td>0.195575</td>\n      <td>0.032604</td>\n      <td>0.037261</td>\n      <td>7.191683e-02</td>\n      <td>0.050658</td>\n      <td>6.419949e-02</td>\n      <td>0.079799</td>\n      <td>0.056490</td>\n      <td>4.051447e-02</td>\n      <td>0.50009</td>\n    </tr>\n    <tr>\n      <th>min</th>\n      <td>-22.892857</td>\n      <td>-25.035714</td>\n      <td>-0.293169</td>\n      <td>-9.357143</td>\n      <td>-2.207143e+01</td>\n      <td>-6.062500</td>\n      <td>-1.427849e+01</td>\n      <td>-10.205882</td>\n      <td>-13.094118</td>\n      <td>-9.214286</td>\n      <td>...</td>\n      <td>-0.606506</td>\n      <td>-0.135937</td>\n      <td>-0.139760</td>\n      <td>-2.727839e-01</td>\n      <td>-0.172779</td>\n      <td>-2.451213e-01</td>\n      <td>-0.289826</td>\n      <td>-0.191864</td>\n      <td>-1.449883e-01</td>\n      <td>0.00000</td>\n    </tr>\n    <tr>\n      <th>25%</th>\n      <td>-4.857429</td>\n      <td>-4.330079</td>\n      <td>-0.035104</td>\n      <td>-1.987506</td>\n      <td>-3.081258e+00</td>\n      <td>-1.211338</td>\n      <td>-2.766433e+00</td>\n      <td>-1.836522</td>\n      <td>-2.405540</td>\n      <td>-1.675716</td>\n      <td>...</td>\n      <td>-0.136510</td>\n      <td>-0.021822</td>\n      <td>-0.023834</td>\n      <td>-4.953287e-02</td>\n      <td>-0.034681</td>\n      <td>-4.227682e-02</td>\n      <td>-0.055724</td>\n      <td>-0.037664</td>\n      <td>-2.744192e-02</td>\n      <td>0.00000</td>\n    </tr>\n    <tr>\n      <th>50%</th>\n      <td>0.000000</td>\n      <td>0.000000</td>\n      <td>0.000000</td>\n      <td>0.000000</td>\n      <td>0.000000e+00</td>\n      <td>0.000000</td>\n      <td>0.000000e+00</td>\n      <td>0.000000</td>\n      <td>0.000000</td>\n      <td>0.000000</td>\n      <td>...</td>\n      <td>0.000000</td>\n      <td>0.000000</td>\n      <td>0.000000</td>\n      <td>0.000000e+00</td>\n      <td>0.000000</td>\n      <td>0.000000e+00</td>\n      <td>0.000000</td>\n      <td>0.000000</td>\n      <td>0.000000e+00</td>\n      <td>0.50000</td>\n    </tr>\n    <tr>\n      <th>75%</th>\n      <td>4.857429</td>\n      <td>4.330079</td>\n      <td>0.035104</td>\n      <td>1.987506</td>\n      <td>3.081258e+00</td>\n      <td>1.211338</td>\n      <td>2.766433e+00</td>\n      <td>1.836522</td>\n      <td>2.405540</td>\n      <td>1.675716</td>\n      <td>...</td>\n      <td>0.136510</td>\n      <td>0.021822</td>\n      <td>0.023834</td>\n      <td>4.953287e-02</td>\n      <td>0.034681</td>\n      <td>4.227682e-02</td>\n      <td>0.055724</td>\n      <td>0.037664</td>\n      <td>2.744192e-02</td>\n      <td>1.00000</td>\n    </tr>\n    <tr>\n      <th>max</th>\n      <td>22.892857</td>\n      <td>25.035714</td>\n      <td>0.293169</td>\n      <td>9.357143</td>\n      <td>2.207143e+01</td>\n      <td>6.062500</td>\n      <td>1.427849e+01</td>\n      <td>10.205882</td>\n      <td>13.094118</td>\n      <td>9.214286</td>\n      <td>...</td>\n      <td>0.606506</td>\n      <td>0.135937</td>\n      <td>0.139760</td>\n      <td>2.727839e-01</td>\n      <td>0.172779</td>\n      <td>2.451213e-01</td>\n      <td>0.289826</td>\n      <td>0.191864</td>\n      <td>1.449883e-01</td>\n      <td>1.00000</td>\n    </tr>\n  </tbody>\n</table>\n<p>8 rows × 42 columns</p>\n</div>"
     },
     "execution_count": 21,
     "metadata": {},
     "output_type": "execute_result"
    }
   ],
   "source": [
    "mTourneyFinal.describe()"
   ],
   "metadata": {
    "collapsed": false,
    "ExecuteTime": {
     "end_time": "2025-03-09T23:53:55.956450Z",
     "start_time": "2025-03-09T23:53:55.921173Z"
    }
   },
   "id": "1fba72711e0ededf",
   "execution_count": 21
  },
  {
   "cell_type": "markdown",
   "source": [
    "## Logistic Regression"
   ],
   "metadata": {
    "collapsed": false
   },
   "id": "3ceaff60c7636270"
  },
  {
   "cell_type": "code",
   "outputs": [
    {
     "name": "stdout",
     "output_type": "stream",
     "text": [
      "[[0.8324654  0.1675346 ]\n",
      " [0.46510955 0.53489045]\n",
      " [0.09471392 0.90528608]\n",
      " [0.56849522 0.43150478]\n",
      " [0.33720608 0.66279392]]\n",
      "Log Loss: 0.6013579939175102\n",
      "Brier Score: 0.20769966982731866\n"
     ]
    }
   ],
   "source": [
    "# Setup scaler\n",
    "scaler = StandardScaler()\n",
    "\n",
    "# Setup input and target\n",
    "X = mTourneyFinal.drop(columns=['Result'])\n",
    "y = mTourneyFinal['Result']\n",
    "\n",
    "# Split into train and test sets\n",
    "X_train, X_test, y_train, y_test = train_test_split(X, y, test_size=0.2, random_state=42)\n",
    "\n",
    "# Fit scaler on training data and transform both train and test sets\n",
    "X_train = scaler.fit_transform(X_train)\n",
    "X_test = scaler.transform(X_test)  # Use transform (not fit_transform) on test set to prevent data leakage\n",
    "\n",
    "# Train logistic regression model\n",
    "model = LogisticRegression()\n",
    "model.fit(X_train, y_train)\n",
    "\n",
    "# Get model predictions\n",
    "y_pred = model.predict(X_test)\n",
    "y_pred_proba = model.predict_proba(X_test)\n",
    "print(y_pred_proba[:5]) # Sanity check\n",
    "\n",
    "# Calculate logg loss\n",
    "logLoss = log_loss(y_test, y_pred_proba)\n",
    "print(f'Log Loss: {logLoss}')\n",
    "\n",
    "# Calculate brier score\n",
    "y_pred_proba_class1 = y_pred_proba[:, 1]\n",
    "brier_score = brier_score_loss(y_test, y_pred_proba_class1)\n",
    "print(f'Brier Score: {brier_score}')"
   ],
   "metadata": {
    "collapsed": false,
    "ExecuteTime": {
     "end_time": "2025-03-09T23:53:55.998370Z",
     "start_time": "2025-03-09T23:53:55.956450Z"
    }
   },
   "id": "d2937abe436269c0",
   "execution_count": 22
  },
  {
   "cell_type": "markdown",
   "source": [
    "## Hyperparameter Tuning"
   ],
   "metadata": {
    "collapsed": false
   },
   "id": "890faa44057991c6"
  },
  {
   "cell_type": "code",
   "outputs": [],
   "source": [
    "# # Perform grid search\n",
    "# grid = {\n",
    "#     'C': [0.001, 0.1, 1, 10, 100],\n",
    "#     'solver': ['lbfgs', 'liblinear', 'newton-cg', 'newton-cholesky', 'sag', 'saga'],\n",
    "#     'max_iter': [100, 250, 500, 750, 1000],\n",
    "#     'tol': [1e-4, 1e-5]\n",
    "# }\n",
    "# \n",
    "# gridLog = LogisticRegression()\n",
    "# gridSearch = GridSearchCV(gridLog, grid, cv=5, scoring=['precision', 'recall', 'f1'], refit='f1')\n",
    "# gridSearch.fit(X_train, y_train)\n",
    "# print(f'Best Params: {gridSearch.best_params_}')"
   ],
   "metadata": {
    "collapsed": false,
    "ExecuteTime": {
     "end_time": "2025-03-09T23:53:56.001857Z",
     "start_time": "2025-03-09T23:53:55.999401Z"
    }
   },
   "id": "9702d925c2868bd8",
   "execution_count": 23
  },
  {
   "cell_type": "code",
   "outputs": [
    {
     "name": "stdout",
     "output_type": "stream",
     "text": [
      "Log Loss: 0.6013059888683515\n",
      "Brier Score: 0.20771566236729694\n"
     ]
    },
    {
     "name": "stderr",
     "output_type": "stream",
     "text": [
      "C:\\Users\\Trever\\AppData\\Local\\Programs\\Python\\Python312\\Lib\\site-packages\\sklearn\\linear_model\\_sag.py:350: ConvergenceWarning: The max_iter was reached which means the coef_ did not converge\n",
      "  warnings.warn(\n"
     ]
    }
   ],
   "source": [
    "# Train with new parameters\n",
    "newModel = LogisticRegression(\n",
    "    C=1,\n",
    "    max_iter=100,\n",
    "    solver='saga',\n",
    "    tol=0.0001\n",
    ")\n",
    "newModel.fit(X_train, y_train)\n",
    "\n",
    "# Get model predictions\n",
    "y_pred = newModel.predict(X_test)\n",
    "y_pred_proba = newModel.predict_proba(X_test)\n",
    "\n",
    "# Compute Metrics log loss and brier score\n",
    "logLoss = log_loss(y_test, y_pred_proba)\n",
    "print(f'Log Loss: {logLoss}')\n",
    "y_pred_proba_class1 = y_pred_proba[:, 1]\n",
    "brier_score = brier_score_loss(y_test, y_pred_proba_class1)\n",
    "print(f'Brier Score: {brier_score}')"
   ],
   "metadata": {
    "collapsed": false,
    "ExecuteTime": {
     "end_time": "2025-03-09T23:53:56.077788Z",
     "start_time": "2025-03-09T23:53:56.001857Z"
    }
   },
   "id": "44c4706b1e15fa9d",
   "execution_count": 24
  }
 ],
 "metadata": {
  "kernelspec": {
   "display_name": "Python 3",
   "language": "python",
   "name": "python3"
  },
  "language_info": {
   "codemirror_mode": {
    "name": "ipython",
    "version": 2
   },
   "file_extension": ".py",
   "mimetype": "text/x-python",
   "name": "python",
   "nbconvert_exporter": "python",
   "pygments_lexer": "ipython2",
   "version": "2.7.6"
  }
 },
 "nbformat": 4,
 "nbformat_minor": 5
}

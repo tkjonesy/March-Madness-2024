{
 "cells": [
  {
   "cell_type": "code",
   "execution_count": 205,
   "id": "initial_id",
   "metadata": {
    "collapsed": true,
    "ExecuteTime": {
     "end_time": "2025-03-08T23:55:33.026851Z",
     "start_time": "2025-03-08T23:55:33.024688Z"
    }
   },
   "outputs": [],
   "source": [
    "import pandas as pd\n",
    "import numpy as np\n",
    "from matplotlib import pyplot as plt\n",
    "import seaborn as sns"
   ]
  },
  {
   "cell_type": "markdown",
   "source": [
    "## Men's Data"
   ],
   "metadata": {
    "collapsed": false
   },
   "id": "e2ce688b25d32fa8"
  },
  {
   "cell_type": "code",
   "outputs": [],
   "source": [
    "# Load data into Pandas dataframes\n",
    "mRegDetail = pd.read_csv('data/men data/MRegularSeasonDetailedResults.csv')\n",
    "mNames = pd.read_csv('data/men data/MTeamSpellings.csv')"
   ],
   "metadata": {
    "collapsed": false,
    "ExecuteTime": {
     "end_time": "2025-03-08T23:55:33.153861Z",
     "start_time": "2025-03-08T23:55:33.026851Z"
    }
   },
   "id": "3cd32e70e72f9f34",
   "execution_count": 206
  },
  {
   "cell_type": "code",
   "outputs": [
    {
     "data": {
      "text/plain": "array(['Season', 'DayNum', 'WTeamID', 'WScore', 'LTeamID', 'LScore',\n       'WLoc', 'NumOT', 'WFGM', 'WFGA', 'WFGM3', 'WFGA3', 'WFTM', 'WFTA',\n       'WOR', 'WDR', 'WAst', 'WTO', 'WStl', 'WBlk', 'WPF', 'LFGM', 'LFGA',\n       'LFGM3', 'LFGA3', 'LFTM', 'LFTA', 'LOR', 'LDR', 'LAst', 'LTO',\n       'LStl', 'LBlk', 'LPF'], dtype=object)"
     },
     "metadata": {},
     "output_type": "display_data"
    }
   ],
   "source": [
    "display(mRegDetail.columns.values)"
   ],
   "metadata": {
    "collapsed": false,
    "ExecuteTime": {
     "end_time": "2025-03-08T23:55:33.157068Z",
     "start_time": "2025-03-08T23:55:33.154881Z"
    }
   },
   "id": "80b747df2f35b319",
   "execution_count": 207
  },
  {
   "cell_type": "code",
   "outputs": [],
   "source": [
    "# Split regular season detailed results into dataframes focused on outcome for one team\n",
    "mRegWinners = pd.DataFrame()\n",
    "mRegLossers = pd.DataFrame()\n",
    "\n",
    "# Establish new columns for that includes stats for one team\n",
    "columns = ['Season', 'TeamID', 'Score', 'OppScore',\n",
    "       'NumOT', 'FGM', 'FGA', 'FGM3', 'FGA3', 'FTM', 'FTA',\n",
    "       'OR', 'DR', 'Ast', 'TO', 'Stl', 'Blk', 'PF', 'OppFGM', 'OppFGA',\n",
    "       'OppFGM3', 'OppFGA3', 'OppFTM', 'OppFTA', 'OppOR', 'OppDR', 'OppAst', 'OppTO',\n",
    "       'OppStl', 'OppBlk', 'OppPF']"
   ],
   "metadata": {
    "collapsed": false,
    "ExecuteTime": {
     "end_time": "2025-03-08T23:55:33.167385Z",
     "start_time": "2025-03-08T23:55:33.157068Z"
    }
   },
   "id": "bf43b1c86fc39a42",
   "execution_count": 208
  },
  {
   "cell_type": "code",
   "outputs": [],
   "source": [
    "# Split winners from regular season\n",
    "mRegWinners[columns] = mRegDetail[['Season', 'WTeamID', 'WScore', 'LScore',\n",
    "       'NumOT', 'WFGM', 'WFGA', 'WFGM3', 'WFGA3', 'WFTM', 'WFTA',\n",
    "       'WOR', 'WDR', 'WAst', 'WTO', 'WStl', 'WBlk', 'WPF', 'LFGM', 'LFGA',\n",
    "       'LFGM3', 'LFGA3', 'LFTM', 'LFTA', 'LOR', 'LDR', 'LAst', 'LTO',\n",
    "       'LStl', 'LBlk', 'LPF']]\n",
    "\n",
    "# Add wins and losses columns\n",
    "mRegWinners['Wins'] = 1\n",
    "mRegWinners['Losses'] = 0"
   ],
   "metadata": {
    "collapsed": false,
    "ExecuteTime": {
     "end_time": "2025-03-08T23:55:33.187128Z",
     "start_time": "2025-03-08T23:55:33.167385Z"
    }
   },
   "id": "1a8acc93dbbae2d7",
   "execution_count": 209
  },
  {
   "cell_type": "code",
   "outputs": [],
   "source": [
    "# Split lossers from regular season\n",
    "mRegLossers[columns] = mRegDetail[['Season', 'LTeamID', 'LScore', 'WScore',\n",
    "       'NumOT', 'LFGM', 'LFGA', 'LFGM3', 'LFGA3', 'LFTM', 'LFTA',\n",
    "       'LOR', 'LDR', 'LAst', 'LTO', 'LStl', 'LBlk', 'LPF', 'WFGM', 'WFGA',\n",
    "       'WFGM3', 'WFGA3', 'WFTM', 'WFTA','WOR', 'WDR', 'WAst', 'WTO',\n",
    "       'WStl', 'WBlk', 'WPF']]\n",
    "\n",
    "# Add wins and losses columns\n",
    "mRegLossers['Wins'] = 0\n",
    "mRegLossers['Losses'] = 1"
   ],
   "metadata": {
    "collapsed": false,
    "ExecuteTime": {
     "end_time": "2025-03-08T23:55:33.203397Z",
     "start_time": "2025-03-08T23:55:33.187128Z"
    }
   },
   "id": "b82d9349edc71d09",
   "execution_count": 210
  },
  {
   "cell_type": "code",
   "outputs": [],
   "source": [
    "# Combine all games into one dataframe\n",
    "mAllRegDetail = pd.concat([mRegWinners, mRegLossers])"
   ],
   "metadata": {
    "collapsed": false,
    "ExecuteTime": {
     "end_time": "2025-03-08T23:55:33.217726Z",
     "start_time": "2025-03-08T23:55:33.203397Z"
    }
   },
   "id": "7343b00600410b9b",
   "execution_count": 211
  },
  {
   "cell_type": "code",
   "outputs": [],
   "source": [
    "# Sum stats for each season for each team for regular season\n",
    "mRegSeasonDetail = mAllRegDetail.groupby(['Season', 'TeamID']).sum(numeric_only=True)\n",
    "mRegSeasonDetail['NumGames'] = mRegSeasonDetail['Wins'] + mRegSeasonDetail['Losses']"
   ],
   "metadata": {
    "collapsed": false,
    "ExecuteTime": {
     "end_time": "2025-03-08T23:55:33.249571Z",
     "start_time": "2025-03-08T23:55:33.217726Z"
    }
   },
   "id": "521360e807d5a23a",
   "execution_count": 212
  },
  {
   "cell_type": "code",
   "outputs": [
    {
     "data": {
      "text/plain": "               Score  OppScore  NumOT  FGM   FGA  FGM3  FGA3  FTM  FTA   OR  \\\nSeason TeamID                                                                 \n2003   1102     1603      1596      0  536  1114   219   583  312  479  117   \n       1103     2127      2110      8  733  1508   147   434  514  698  264   \n       1104     1940      1820      1  673  1601   178   556  416  586  380   \n       1105     1866      1993      4  634  1602   197   540  401  568  351   \n       1106     1781      1785      1  656  1548   171   494  298  461  344   \n...              ...       ...    ...  ...   ...   ...   ...  ...  ...  ...   \n2025   1476     1964      2056      0  676  1561   250   701  362  499  204   \n       1477     1995      2321      1  713  1714   260   828  309  480  246   \n       1478     2091      2356      7  718  1609   221   669  434  605  216   \n       1479     1842      2009      3  635  1507   196   549  376  466  174   \n       1480     2033      2365      0  760  1779   159   536  354  513  245   \n\n               ...  OppOR  OppDR  OppAst  OppTO  OppStl  OppBlk  OppPF  Wins  \\\nSeason TeamID  ...                                                             \n2003   1102    ...    269    564     256    363     152      44    514    12   \n       1103    ...    325    595     418    414     173      77    606    13   \n       1104    ...    305    634     327    388     155      89    539    17   \n       1105    ...    343    686     411    489     244     109    496     7   \n       1106    ...    317    626     330    422     246      89    452    13   \n...            ...    ...    ...     ...    ...     ...     ...    ...   ...   \n2025   1476    ...    258    644     299    289     196     111    457    13   \n       1477    ...    311    728     491    404     286     119    476     5   \n       1478    ...    302    671     464    318     215      84    512     7   \n       1479    ...    233    662     389    351     161      79    472    12   \n       1480    ...    234    754     471    326     206      93    461     5   \n\n               Losses  NumGames  \nSeason TeamID                    \n2003   1102        16        28  \n       1103        14        27  \n       1104        11        28  \n       1105        19        26  \n       1106        15        28  \n...               ...       ...  \n2025   1476        16        29  \n       1477        26        31  \n       1478        22        29  \n       1479        16        28  \n       1480        25        30  \n\n[7981 rows x 32 columns]",
      "text/html": "<div>\n<style scoped>\n    .dataframe tbody tr th:only-of-type {\n        vertical-align: middle;\n    }\n\n    .dataframe tbody tr th {\n        vertical-align: top;\n    }\n\n    .dataframe thead th {\n        text-align: right;\n    }\n</style>\n<table border=\"1\" class=\"dataframe\">\n  <thead>\n    <tr style=\"text-align: right;\">\n      <th></th>\n      <th></th>\n      <th>Score</th>\n      <th>OppScore</th>\n      <th>NumOT</th>\n      <th>FGM</th>\n      <th>FGA</th>\n      <th>FGM3</th>\n      <th>FGA3</th>\n      <th>FTM</th>\n      <th>FTA</th>\n      <th>OR</th>\n      <th>...</th>\n      <th>OppOR</th>\n      <th>OppDR</th>\n      <th>OppAst</th>\n      <th>OppTO</th>\n      <th>OppStl</th>\n      <th>OppBlk</th>\n      <th>OppPF</th>\n      <th>Wins</th>\n      <th>Losses</th>\n      <th>NumGames</th>\n    </tr>\n    <tr>\n      <th>Season</th>\n      <th>TeamID</th>\n      <th></th>\n      <th></th>\n      <th></th>\n      <th></th>\n      <th></th>\n      <th></th>\n      <th></th>\n      <th></th>\n      <th></th>\n      <th></th>\n      <th></th>\n      <th></th>\n      <th></th>\n      <th></th>\n      <th></th>\n      <th></th>\n      <th></th>\n      <th></th>\n      <th></th>\n      <th></th>\n      <th></th>\n    </tr>\n  </thead>\n  <tbody>\n    <tr>\n      <th rowspan=\"5\" valign=\"top\">2003</th>\n      <th>1102</th>\n      <td>1603</td>\n      <td>1596</td>\n      <td>0</td>\n      <td>536</td>\n      <td>1114</td>\n      <td>219</td>\n      <td>583</td>\n      <td>312</td>\n      <td>479</td>\n      <td>117</td>\n      <td>...</td>\n      <td>269</td>\n      <td>564</td>\n      <td>256</td>\n      <td>363</td>\n      <td>152</td>\n      <td>44</td>\n      <td>514</td>\n      <td>12</td>\n      <td>16</td>\n      <td>28</td>\n    </tr>\n    <tr>\n      <th>1103</th>\n      <td>2127</td>\n      <td>2110</td>\n      <td>8</td>\n      <td>733</td>\n      <td>1508</td>\n      <td>147</td>\n      <td>434</td>\n      <td>514</td>\n      <td>698</td>\n      <td>264</td>\n      <td>...</td>\n      <td>325</td>\n      <td>595</td>\n      <td>418</td>\n      <td>414</td>\n      <td>173</td>\n      <td>77</td>\n      <td>606</td>\n      <td>13</td>\n      <td>14</td>\n      <td>27</td>\n    </tr>\n    <tr>\n      <th>1104</th>\n      <td>1940</td>\n      <td>1820</td>\n      <td>1</td>\n      <td>673</td>\n      <td>1601</td>\n      <td>178</td>\n      <td>556</td>\n      <td>416</td>\n      <td>586</td>\n      <td>380</td>\n      <td>...</td>\n      <td>305</td>\n      <td>634</td>\n      <td>327</td>\n      <td>388</td>\n      <td>155</td>\n      <td>89</td>\n      <td>539</td>\n      <td>17</td>\n      <td>11</td>\n      <td>28</td>\n    </tr>\n    <tr>\n      <th>1105</th>\n      <td>1866</td>\n      <td>1993</td>\n      <td>4</td>\n      <td>634</td>\n      <td>1602</td>\n      <td>197</td>\n      <td>540</td>\n      <td>401</td>\n      <td>568</td>\n      <td>351</td>\n      <td>...</td>\n      <td>343</td>\n      <td>686</td>\n      <td>411</td>\n      <td>489</td>\n      <td>244</td>\n      <td>109</td>\n      <td>496</td>\n      <td>7</td>\n      <td>19</td>\n      <td>26</td>\n    </tr>\n    <tr>\n      <th>1106</th>\n      <td>1781</td>\n      <td>1785</td>\n      <td>1</td>\n      <td>656</td>\n      <td>1548</td>\n      <td>171</td>\n      <td>494</td>\n      <td>298</td>\n      <td>461</td>\n      <td>344</td>\n      <td>...</td>\n      <td>317</td>\n      <td>626</td>\n      <td>330</td>\n      <td>422</td>\n      <td>246</td>\n      <td>89</td>\n      <td>452</td>\n      <td>13</td>\n      <td>15</td>\n      <td>28</td>\n    </tr>\n    <tr>\n      <th>...</th>\n      <th>...</th>\n      <td>...</td>\n      <td>...</td>\n      <td>...</td>\n      <td>...</td>\n      <td>...</td>\n      <td>...</td>\n      <td>...</td>\n      <td>...</td>\n      <td>...</td>\n      <td>...</td>\n      <td>...</td>\n      <td>...</td>\n      <td>...</td>\n      <td>...</td>\n      <td>...</td>\n      <td>...</td>\n      <td>...</td>\n      <td>...</td>\n      <td>...</td>\n      <td>...</td>\n      <td>...</td>\n    </tr>\n    <tr>\n      <th rowspan=\"5\" valign=\"top\">2025</th>\n      <th>1476</th>\n      <td>1964</td>\n      <td>2056</td>\n      <td>0</td>\n      <td>676</td>\n      <td>1561</td>\n      <td>250</td>\n      <td>701</td>\n      <td>362</td>\n      <td>499</td>\n      <td>204</td>\n      <td>...</td>\n      <td>258</td>\n      <td>644</td>\n      <td>299</td>\n      <td>289</td>\n      <td>196</td>\n      <td>111</td>\n      <td>457</td>\n      <td>13</td>\n      <td>16</td>\n      <td>29</td>\n    </tr>\n    <tr>\n      <th>1477</th>\n      <td>1995</td>\n      <td>2321</td>\n      <td>1</td>\n      <td>713</td>\n      <td>1714</td>\n      <td>260</td>\n      <td>828</td>\n      <td>309</td>\n      <td>480</td>\n      <td>246</td>\n      <td>...</td>\n      <td>311</td>\n      <td>728</td>\n      <td>491</td>\n      <td>404</td>\n      <td>286</td>\n      <td>119</td>\n      <td>476</td>\n      <td>5</td>\n      <td>26</td>\n      <td>31</td>\n    </tr>\n    <tr>\n      <th>1478</th>\n      <td>2091</td>\n      <td>2356</td>\n      <td>7</td>\n      <td>718</td>\n      <td>1609</td>\n      <td>221</td>\n      <td>669</td>\n      <td>434</td>\n      <td>605</td>\n      <td>216</td>\n      <td>...</td>\n      <td>302</td>\n      <td>671</td>\n      <td>464</td>\n      <td>318</td>\n      <td>215</td>\n      <td>84</td>\n      <td>512</td>\n      <td>7</td>\n      <td>22</td>\n      <td>29</td>\n    </tr>\n    <tr>\n      <th>1479</th>\n      <td>1842</td>\n      <td>2009</td>\n      <td>3</td>\n      <td>635</td>\n      <td>1507</td>\n      <td>196</td>\n      <td>549</td>\n      <td>376</td>\n      <td>466</td>\n      <td>174</td>\n      <td>...</td>\n      <td>233</td>\n      <td>662</td>\n      <td>389</td>\n      <td>351</td>\n      <td>161</td>\n      <td>79</td>\n      <td>472</td>\n      <td>12</td>\n      <td>16</td>\n      <td>28</td>\n    </tr>\n    <tr>\n      <th>1480</th>\n      <td>2033</td>\n      <td>2365</td>\n      <td>0</td>\n      <td>760</td>\n      <td>1779</td>\n      <td>159</td>\n      <td>536</td>\n      <td>354</td>\n      <td>513</td>\n      <td>245</td>\n      <td>...</td>\n      <td>234</td>\n      <td>754</td>\n      <td>471</td>\n      <td>326</td>\n      <td>206</td>\n      <td>93</td>\n      <td>461</td>\n      <td>5</td>\n      <td>25</td>\n      <td>30</td>\n    </tr>\n  </tbody>\n</table>\n<p>7981 rows × 32 columns</p>\n</div>"
     },
     "execution_count": 213,
     "metadata": {},
     "output_type": "execute_result"
    }
   ],
   "source": [
    "mRegSeasonDetail"
   ],
   "metadata": {
    "collapsed": false,
    "ExecuteTime": {
     "end_time": "2025-03-08T23:55:33.258780Z",
     "start_time": "2025-03-08T23:55:33.249571Z"
    }
   },
   "id": "99abac55d28e4b2a",
   "execution_count": 213
  },
  {
   "cell_type": "code",
   "outputs": [],
   "source": [
    "# Create ___ per game stat for each boxscore stat\n",
    "mRegSeasonFeatures = pd.DataFrame()\n",
    "\n",
    "stats = ['Score', 'OppScore', 'NumOT', 'FGM', 'FGA', 'FGM3', 'FGA3', 'FTM', 'FTA',\n",
    "       'OR', 'DR', 'Ast', 'TO', 'Stl', 'Blk', 'PF', 'OppFGM', 'OppFGA',\n",
    "       'OppFGM3', 'OppFGA3', 'OppFTM', 'OppFTA', 'OppOR', 'OppDR', 'OppAst', 'OppTO',\n",
    "       'OppStl', 'OppBlk', 'OppPF']\n",
    "\n",
    "for col in stats:\n",
    "    mRegSeasonFeatures[col + '_PerGame'] = mRegSeasonDetail[col] / mRegSeasonDetail['NumGames']"
   ],
   "metadata": {
    "collapsed": false,
    "ExecuteTime": {
     "end_time": "2025-03-08T23:55:33.267188Z",
     "start_time": "2025-03-08T23:55:33.258780Z"
    }
   },
   "id": "4fdbf5f36ac02eb1",
   "execution_count": 214
  },
  {
   "cell_type": "code",
   "outputs": [
    {
     "data": {
      "text/plain": "               Score_PerGame  OppScore_PerGame  NumOT_PerGame  FGM_PerGame  \\\nSeason TeamID                                                                \n2003   1102        57.250000         57.000000       0.000000    19.142857   \n       1103        78.777778         78.148148       0.296296    27.148148   \n       1104        69.285714         65.000000       0.035714    24.035714   \n       1105        71.769231         76.653846       0.153846    24.384615   \n       1106        63.607143         63.750000       0.035714    23.428571   \n...                      ...               ...            ...          ...   \n2025   1476        67.724138         70.896552       0.000000    23.310345   \n       1477        64.354839         74.870968       0.032258    23.000000   \n       1478        72.103448         81.241379       0.241379    24.758621   \n       1479        65.785714         71.750000       0.107143    22.678571   \n       1480        67.766667         78.833333       0.000000    25.333333   \n\n               FGA_PerGame  FGM3_PerGame  FGA3_PerGame  FTM_PerGame  \\\nSeason TeamID                                                         \n2003   1102      39.785714      7.821429     20.821429    11.142857   \n       1103      55.851852      5.444444     16.074074    19.037037   \n       1104      57.178571      6.357143     19.857143    14.857143   \n       1105      61.615385      7.576923     20.769231    15.423077   \n       1106      55.285714      6.107143     17.642857    10.642857   \n...                    ...           ...           ...          ...   \n2025   1476      53.827586      8.620690     24.172414    12.482759   \n       1477      55.290323      8.387097     26.709677     9.967742   \n       1478      55.482759      7.620690     23.068966    14.965517   \n       1479      53.821429      7.000000     19.607143    13.428571   \n       1480      59.300000      5.300000     17.866667    11.800000   \n\n               FTA_PerGame  OR_PerGame  ...  OppFGA3_PerGame  OppFTM_PerGame  \\\nSeason TeamID                           ...                                    \n2003   1102      17.107143    4.178571  ...        12.428571       13.678571   \n       1103      25.851852    9.777778  ...        18.370370       15.925926   \n       1104      20.928571   13.571429  ...        19.142857       12.142857   \n       1105      21.846154   13.500000  ...        17.538462       16.384615   \n       1106      16.464286   12.285714  ...        15.214286       15.535714   \n...                    ...         ...  ...              ...             ...   \n2025   1476      17.206897    7.034483  ...        18.827586       13.689655   \n       1477      15.483871    7.935484  ...        19.483871       14.225806   \n       1478      20.862069    7.448276  ...        24.689655       16.206897   \n       1479      16.642857    6.214286  ...        20.821429       14.250000   \n       1480      17.100000    8.166667  ...        24.933333       14.866667   \n\n               OppFTA_PerGame  OppOR_PerGame  OppDR_PerGame  OppAst_PerGame  \\\nSeason TeamID                                                                 \n2003   1102         19.250000       9.607143      20.142857        9.142857   \n       1103         22.148148      12.037037      22.037037       15.481481   \n       1104         17.142857      10.892857      22.642857       11.678571   \n       1105         24.500000      13.192308      26.384615       15.807692   \n       1106         21.964286      11.321429      22.357143       11.785714   \n...                       ...            ...            ...             ...   \n2025   1476         18.655172       8.896552      22.206897       10.310345   \n       1477         20.548387      10.032258      23.483871       15.838710   \n       1478         22.206897      10.413793      23.137931       16.000000   \n       1479         20.000000       8.321429      23.642857       13.892857   \n       1480         20.666667       7.800000      25.133333       15.700000   \n\n               OppTO_PerGame  OppStl_PerGame  OppBlk_PerGame  OppPF_PerGame  \nSeason TeamID                                                                \n2003   1102        12.964286        5.428571        1.571429      18.357143  \n       1103        15.333333        6.407407        2.851852      22.444444  \n       1104        13.857143        5.535714        3.178571      19.250000  \n       1105        18.807692        9.384615        4.192308      19.076923  \n       1106        15.071429        8.785714        3.178571      16.142857  \n...                      ...             ...             ...            ...  \n2025   1476         9.965517        6.758621        3.827586      15.758621  \n       1477        13.032258        9.225806        3.838710      15.354839  \n       1478        10.965517        7.413793        2.896552      17.655172  \n       1479        12.535714        5.750000        2.821429      16.857143  \n       1480        10.866667        6.866667        3.100000      15.366667  \n\n[7981 rows x 29 columns]",
      "text/html": "<div>\n<style scoped>\n    .dataframe tbody tr th:only-of-type {\n        vertical-align: middle;\n    }\n\n    .dataframe tbody tr th {\n        vertical-align: top;\n    }\n\n    .dataframe thead th {\n        text-align: right;\n    }\n</style>\n<table border=\"1\" class=\"dataframe\">\n  <thead>\n    <tr style=\"text-align: right;\">\n      <th></th>\n      <th></th>\n      <th>Score_PerGame</th>\n      <th>OppScore_PerGame</th>\n      <th>NumOT_PerGame</th>\n      <th>FGM_PerGame</th>\n      <th>FGA_PerGame</th>\n      <th>FGM3_PerGame</th>\n      <th>FGA3_PerGame</th>\n      <th>FTM_PerGame</th>\n      <th>FTA_PerGame</th>\n      <th>OR_PerGame</th>\n      <th>...</th>\n      <th>OppFGA3_PerGame</th>\n      <th>OppFTM_PerGame</th>\n      <th>OppFTA_PerGame</th>\n      <th>OppOR_PerGame</th>\n      <th>OppDR_PerGame</th>\n      <th>OppAst_PerGame</th>\n      <th>OppTO_PerGame</th>\n      <th>OppStl_PerGame</th>\n      <th>OppBlk_PerGame</th>\n      <th>OppPF_PerGame</th>\n    </tr>\n    <tr>\n      <th>Season</th>\n      <th>TeamID</th>\n      <th></th>\n      <th></th>\n      <th></th>\n      <th></th>\n      <th></th>\n      <th></th>\n      <th></th>\n      <th></th>\n      <th></th>\n      <th></th>\n      <th></th>\n      <th></th>\n      <th></th>\n      <th></th>\n      <th></th>\n      <th></th>\n      <th></th>\n      <th></th>\n      <th></th>\n      <th></th>\n      <th></th>\n    </tr>\n  </thead>\n  <tbody>\n    <tr>\n      <th rowspan=\"5\" valign=\"top\">2003</th>\n      <th>1102</th>\n      <td>57.250000</td>\n      <td>57.000000</td>\n      <td>0.000000</td>\n      <td>19.142857</td>\n      <td>39.785714</td>\n      <td>7.821429</td>\n      <td>20.821429</td>\n      <td>11.142857</td>\n      <td>17.107143</td>\n      <td>4.178571</td>\n      <td>...</td>\n      <td>12.428571</td>\n      <td>13.678571</td>\n      <td>19.250000</td>\n      <td>9.607143</td>\n      <td>20.142857</td>\n      <td>9.142857</td>\n      <td>12.964286</td>\n      <td>5.428571</td>\n      <td>1.571429</td>\n      <td>18.357143</td>\n    </tr>\n    <tr>\n      <th>1103</th>\n      <td>78.777778</td>\n      <td>78.148148</td>\n      <td>0.296296</td>\n      <td>27.148148</td>\n      <td>55.851852</td>\n      <td>5.444444</td>\n      <td>16.074074</td>\n      <td>19.037037</td>\n      <td>25.851852</td>\n      <td>9.777778</td>\n      <td>...</td>\n      <td>18.370370</td>\n      <td>15.925926</td>\n      <td>22.148148</td>\n      <td>12.037037</td>\n      <td>22.037037</td>\n      <td>15.481481</td>\n      <td>15.333333</td>\n      <td>6.407407</td>\n      <td>2.851852</td>\n      <td>22.444444</td>\n    </tr>\n    <tr>\n      <th>1104</th>\n      <td>69.285714</td>\n      <td>65.000000</td>\n      <td>0.035714</td>\n      <td>24.035714</td>\n      <td>57.178571</td>\n      <td>6.357143</td>\n      <td>19.857143</td>\n      <td>14.857143</td>\n      <td>20.928571</td>\n      <td>13.571429</td>\n      <td>...</td>\n      <td>19.142857</td>\n      <td>12.142857</td>\n      <td>17.142857</td>\n      <td>10.892857</td>\n      <td>22.642857</td>\n      <td>11.678571</td>\n      <td>13.857143</td>\n      <td>5.535714</td>\n      <td>3.178571</td>\n      <td>19.250000</td>\n    </tr>\n    <tr>\n      <th>1105</th>\n      <td>71.769231</td>\n      <td>76.653846</td>\n      <td>0.153846</td>\n      <td>24.384615</td>\n      <td>61.615385</td>\n      <td>7.576923</td>\n      <td>20.769231</td>\n      <td>15.423077</td>\n      <td>21.846154</td>\n      <td>13.500000</td>\n      <td>...</td>\n      <td>17.538462</td>\n      <td>16.384615</td>\n      <td>24.500000</td>\n      <td>13.192308</td>\n      <td>26.384615</td>\n      <td>15.807692</td>\n      <td>18.807692</td>\n      <td>9.384615</td>\n      <td>4.192308</td>\n      <td>19.076923</td>\n    </tr>\n    <tr>\n      <th>1106</th>\n      <td>63.607143</td>\n      <td>63.750000</td>\n      <td>0.035714</td>\n      <td>23.428571</td>\n      <td>55.285714</td>\n      <td>6.107143</td>\n      <td>17.642857</td>\n      <td>10.642857</td>\n      <td>16.464286</td>\n      <td>12.285714</td>\n      <td>...</td>\n      <td>15.214286</td>\n      <td>15.535714</td>\n      <td>21.964286</td>\n      <td>11.321429</td>\n      <td>22.357143</td>\n      <td>11.785714</td>\n      <td>15.071429</td>\n      <td>8.785714</td>\n      <td>3.178571</td>\n      <td>16.142857</td>\n    </tr>\n    <tr>\n      <th>...</th>\n      <th>...</th>\n      <td>...</td>\n      <td>...</td>\n      <td>...</td>\n      <td>...</td>\n      <td>...</td>\n      <td>...</td>\n      <td>...</td>\n      <td>...</td>\n      <td>...</td>\n      <td>...</td>\n      <td>...</td>\n      <td>...</td>\n      <td>...</td>\n      <td>...</td>\n      <td>...</td>\n      <td>...</td>\n      <td>...</td>\n      <td>...</td>\n      <td>...</td>\n      <td>...</td>\n      <td>...</td>\n    </tr>\n    <tr>\n      <th rowspan=\"5\" valign=\"top\">2025</th>\n      <th>1476</th>\n      <td>67.724138</td>\n      <td>70.896552</td>\n      <td>0.000000</td>\n      <td>23.310345</td>\n      <td>53.827586</td>\n      <td>8.620690</td>\n      <td>24.172414</td>\n      <td>12.482759</td>\n      <td>17.206897</td>\n      <td>7.034483</td>\n      <td>...</td>\n      <td>18.827586</td>\n      <td>13.689655</td>\n      <td>18.655172</td>\n      <td>8.896552</td>\n      <td>22.206897</td>\n      <td>10.310345</td>\n      <td>9.965517</td>\n      <td>6.758621</td>\n      <td>3.827586</td>\n      <td>15.758621</td>\n    </tr>\n    <tr>\n      <th>1477</th>\n      <td>64.354839</td>\n      <td>74.870968</td>\n      <td>0.032258</td>\n      <td>23.000000</td>\n      <td>55.290323</td>\n      <td>8.387097</td>\n      <td>26.709677</td>\n      <td>9.967742</td>\n      <td>15.483871</td>\n      <td>7.935484</td>\n      <td>...</td>\n      <td>19.483871</td>\n      <td>14.225806</td>\n      <td>20.548387</td>\n      <td>10.032258</td>\n      <td>23.483871</td>\n      <td>15.838710</td>\n      <td>13.032258</td>\n      <td>9.225806</td>\n      <td>3.838710</td>\n      <td>15.354839</td>\n    </tr>\n    <tr>\n      <th>1478</th>\n      <td>72.103448</td>\n      <td>81.241379</td>\n      <td>0.241379</td>\n      <td>24.758621</td>\n      <td>55.482759</td>\n      <td>7.620690</td>\n      <td>23.068966</td>\n      <td>14.965517</td>\n      <td>20.862069</td>\n      <td>7.448276</td>\n      <td>...</td>\n      <td>24.689655</td>\n      <td>16.206897</td>\n      <td>22.206897</td>\n      <td>10.413793</td>\n      <td>23.137931</td>\n      <td>16.000000</td>\n      <td>10.965517</td>\n      <td>7.413793</td>\n      <td>2.896552</td>\n      <td>17.655172</td>\n    </tr>\n    <tr>\n      <th>1479</th>\n      <td>65.785714</td>\n      <td>71.750000</td>\n      <td>0.107143</td>\n      <td>22.678571</td>\n      <td>53.821429</td>\n      <td>7.000000</td>\n      <td>19.607143</td>\n      <td>13.428571</td>\n      <td>16.642857</td>\n      <td>6.214286</td>\n      <td>...</td>\n      <td>20.821429</td>\n      <td>14.250000</td>\n      <td>20.000000</td>\n      <td>8.321429</td>\n      <td>23.642857</td>\n      <td>13.892857</td>\n      <td>12.535714</td>\n      <td>5.750000</td>\n      <td>2.821429</td>\n      <td>16.857143</td>\n    </tr>\n    <tr>\n      <th>1480</th>\n      <td>67.766667</td>\n      <td>78.833333</td>\n      <td>0.000000</td>\n      <td>25.333333</td>\n      <td>59.300000</td>\n      <td>5.300000</td>\n      <td>17.866667</td>\n      <td>11.800000</td>\n      <td>17.100000</td>\n      <td>8.166667</td>\n      <td>...</td>\n      <td>24.933333</td>\n      <td>14.866667</td>\n      <td>20.666667</td>\n      <td>7.800000</td>\n      <td>25.133333</td>\n      <td>15.700000</td>\n      <td>10.866667</td>\n      <td>6.866667</td>\n      <td>3.100000</td>\n      <td>15.366667</td>\n    </tr>\n  </tbody>\n</table>\n<p>7981 rows × 29 columns</p>\n</div>"
     },
     "execution_count": 215,
     "metadata": {},
     "output_type": "execute_result"
    }
   ],
   "source": [
    "mRegSeasonFeatures"
   ],
   "metadata": {
    "collapsed": false,
    "ExecuteTime": {
     "end_time": "2025-03-08T23:55:33.279497Z",
     "start_time": "2025-03-08T23:55:33.268215Z"
    }
   },
   "id": "d17d6ab43400c9ed",
   "execution_count": 215
  },
  {
   "cell_type": "code",
   "outputs": [],
   "source": [
    "# Create additional features\n",
    "mRegSeasonFeatures['W/L'] = mRegSeasonDetail['Wins'] / mRegSeasonDetail['Losses'] # Win/Loss ratio\n",
    "mRegSeasonFeatures['MOV'] = (mRegSeasonDetail['Score'] - mRegSeasonDetail['OppScore']) / mRegSeasonDetail['NumGames'] # Margin of victory\n",
    "mRegSeasonFeatures['TORatio'] = mRegSeasonFeatures['TO_PerGame'] / mRegSeasonFeatures['OppTO_PerGame'] # Turnover ratio"
   ],
   "metadata": {
    "collapsed": false,
    "ExecuteTime": {
     "end_time": "2025-03-08T23:55:33.281651Z",
     "start_time": "2025-03-08T23:55:33.279497Z"
    }
   },
   "id": "9bf74cd56f908856",
   "execution_count": 216
  }
 ],
 "metadata": {
  "kernelspec": {
   "display_name": "Python 3",
   "language": "python",
   "name": "python3"
  },
  "language_info": {
   "codemirror_mode": {
    "name": "ipython",
    "version": 2
   },
   "file_extension": ".py",
   "mimetype": "text/x-python",
   "name": "python",
   "nbconvert_exporter": "python",
   "pygments_lexer": "ipython2",
   "version": "2.7.6"
  }
 },
 "nbformat": 4,
 "nbformat_minor": 5
}

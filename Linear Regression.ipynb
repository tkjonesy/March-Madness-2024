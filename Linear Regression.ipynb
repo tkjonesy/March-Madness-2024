{
 "cells": [
  {
   "cell_type": "code",
   "execution_count": null,
   "id": "initial_id",
   "metadata": {
    "collapsed": true
   },
   "outputs": [],
   "source": [
    "import pandas as pd\n",
    "import numpy as np\n",
    "from matplotlib import pyplot as plt\n",
    "import seaborn as sns\n",
    "from sklearn.ensemble import RandomForestClassifier"
   ]
  },
  {
   "cell_type": "code",
   "outputs": [],
   "source": [
    "historicalTourneySeeds = pd.read_csv('data/MNCAATourneySeeds.csv')\n",
    "seeds24 = pd.read_csv('data/2024_tourney_seeds.csv')\n",
    "mRegDetail = pd.read_csv('data/MRegularSeasonDetailedResults.csv')\n",
    "tourneyCompact = pd.read_csv('data/MNCAATourneyCompactResults.csv')\n",
    "display(mRegDetail)"
   ],
   "metadata": {
    "collapsed": false
   },
   "id": "3cd32e70e72f9f34",
   "execution_count": null
  },
  {
   "cell_type": "code",
   "outputs": [],
   "source": [
    "display(mRegDetail.columns.values)"
   ],
   "metadata": {
    "collapsed": false
   },
   "id": "80b747df2f35b319",
   "execution_count": null
  },
  {
   "cell_type": "code",
   "outputs": [],
   "source": [
    "winTeams = pd.DataFrame()\n",
    "LoseTeams = pd.DataFrame()\n",
    "\n",
    "columns = ['Season', 'TeamID', 'Score', 'OppScore',\n",
    "       'Loc', 'NumOT', 'FGM', 'FGA', 'FGM3', 'FGA3', 'FTM', 'FTA',\n",
    "       'OR', 'DR', 'Ast', 'TO', 'Stl', 'Blk', 'PF', 'OppFGM', 'OppFGA',\n",
    "       'OppFGM3', 'OppFGA3', 'OppFTM', 'OppFTA', 'OppOR', 'OppDR', 'OppAst', 'OppTO',\n",
    "       'OppStl', 'OppBlk', 'OppPF']"
   ],
   "metadata": {
    "collapsed": false
   },
   "id": "c7f4b448c9120472",
   "execution_count": null
  },
  {
   "cell_type": "code",
   "outputs": [],
   "source": [
    "winTeams[columns] = mRegDetail[['Season', 'WTeamID', 'WScore', 'LScore',\n",
    "       'WLoc', 'NumOT', 'WFGM', 'WFGA', 'WFGM3', 'WFGA3', 'WFTM', 'WFTA',\n",
    "       'WOR', 'WDR', 'WAst', 'WTO', 'WStl', 'WBlk', 'WPF', 'LFGM', 'LFGA',\n",
    "       'LFGM3', 'LFGA3', 'LFTM', 'LFTA', 'LOR', 'LDR', 'LAst', 'LTO',\n",
    "       'LStl', 'LBlk', 'LPF']]\n",
    "\n",
    "winTeams['Wins'] = 1\n",
    "winTeams['Losses'] = 0\n",
    "\n",
    "LoseTeams[columns] = mRegDetail[['Season', 'LTeamID', 'LScore', 'WScore',\n",
    "       'WLoc', 'NumOT', 'LFGM', 'LFGA', 'LFGM3', 'LFGA3', 'LFTM', 'LFTA',\n",
    "       'LOR', 'LDR', 'LAst', 'LTO', 'LStl', 'LBlk', 'LPF', 'WFGM', 'WFGA',\n",
    "       'WFGM3', 'WFGA3', 'WFTM', 'WFTA', 'WOR', 'WDR', 'WAst', 'WTO',\n",
    "       'WStl', 'WBlk', 'WPF']]\n",
    "\n",
    "def changeLocation(location):\n",
    "    if location == 'H':\n",
    "        return 'A'\n",
    "    elif location == 'A':\n",
    "        return 'H'\n",
    "    else:\n",
    "        return 'N'\n",
    "    \n",
    "LoseTeams['Loc'] = LoseTeams['Loc'].apply(changeLocation) \n",
    "\n",
    "LoseTeams['Wins'] = 0\n",
    "LoseTeams['Losses'] = 1\n",
    "\n",
    "mAllRegDetail = pd.concat([winTeams, LoseTeams])"
   ],
   "metadata": {
    "collapsed": false
   },
   "id": "2693af066bc418f7",
   "execution_count": null
  },
  {
   "cell_type": "code",
   "outputs": [],
   "source": [
    "seasonDetails = mAllRegDetail.groupby(['Season', 'TeamID']).sum(numeric_only=True)\n",
    "seasonDetails['NumGames'] = seasonDetails['Wins'] + seasonDetails['Losses']\n",
    "display(seasonDetails.columns.values)"
   ],
   "metadata": {
    "collapsed": false
   },
   "id": "b82f8e199982cab5",
   "execution_count": null
  },
  {
   "cell_type": "code",
   "outputs": [],
   "source": [
    "mRegSeasonInput = pd.DataFrame()\n",
    "\n",
    "# Building some useful features not found already in the dataset\n",
    "mRegSeasonInput['WinRatio'] = seasonDetails['Wins'] / seasonDetails['NumGames']\n",
    "mRegSeasonInput['PointsPerGame'] = seasonDetails['Score'] / seasonDetails['NumGames']\n",
    "mRegSeasonInput['PointsAllowedPerGame'] = seasonDetails['OppScore'] / seasonDetails['NumGames']\n",
    "mRegSeasonInput['PointsRatio'] = seasonDetails['Score'] / seasonDetails['OppScore']\n",
    "mRegSeasonInput['OTsPerGame'] = seasonDetails['NumOT'] / seasonDetails['NumGames']\n",
    "\n",
    "# Transforming features already present\n",
    "mRegSeasonInput['FGMPerGame'] = seasonDetails['FGM'] / seasonDetails['NumGames']\n",
    "mRegSeasonInput['FGMRatio'] = seasonDetails['FGM'] / seasonDetails['FGA']\n",
    "mRegSeasonInput['FGAllowedPerGame'] = seasonDetails['OppFGM'] / seasonDetails['NumGames']\n",
    "\n",
    "mRegSeasonInput['FG3MPerGame'] = seasonDetails['FGM3'] / seasonDetails['NumGames']\n",
    "mRegSeasonInput['FG3MRatio'] = seasonDetails['FGM3'] / seasonDetails['FGA3']\n",
    "mRegSeasonInput['FG3AllowedPerGame'] = seasonDetails['OppFGM3'] / seasonDetails['NumGames']\n",
    "\n",
    "mRegSeasonInput['FTMPerGame'] = seasonDetails['FTM'] / seasonDetails['NumGames']\n",
    "mRegSeasonInput['FTMRatio'] = seasonDetails['FTM'] / seasonDetails['FTA']\n",
    "mRegSeasonInput['FTAllowedPerGame'] = seasonDetails['OppFTM'] / seasonDetails['NumGames']\n",
    "\n",
    "mRegSeasonInput['ORRatio'] = seasonDetails['OR'] / (seasonDetails['OR'] + seasonDetails['OppDR'])\n",
    "mRegSeasonInput['DRRatio'] = seasonDetails['DR'] / (seasonDetails['DR'] + seasonDetails['OppOR'])\n",
    "mRegSeasonInput['AstPerGame'] = seasonDetails['Ast'] / seasonDetails['NumGames']\n",
    "mRegSeasonInput['TOPerGame'] = seasonDetails['TO'] / seasonDetails['NumGames']\n",
    "mRegSeasonInput['StlPerGame'] = seasonDetails['Stl'] / seasonDetails['NumGames']\n",
    "mRegSeasonInput['BlkPerGame'] = seasonDetails['Blk'] / seasonDetails['NumGames']\n",
    "mRegSeasonInput['PFPerGame'] = seasonDetails['PF'] / seasonDetails['NumGames']\n",
    "\n",
    "display(mRegSeasonInput)\n",
    "display(mRegSeasonInput.describe())"
   ],
   "metadata": {
    "collapsed": false
   },
   "id": "442e9046be0f519f",
   "execution_count": null
  },
  {
   "cell_type": "code",
   "outputs": [],
   "source": [
    "# Compare teams in previous tournaments\n",
    "seedDict = historicalTourneySeeds.set_index(['Season', 'TeamID'])\n",
    "\n",
    "winnersTourney = pd.DataFrame()\n",
    "winnersTourney[['Season', 'Team1', 'Team2']] = tourneyCompact[['Season', 'WTeamID', 'LTeamID']]\n",
    "winnersTourney['Result'] = 1\n",
    "\n",
    "lossersTourney = pd.DataFrame()\n",
    "lossersTourney[['Season', 'Team1', 'Team2']] = tourneyCompact[['Season', 'LTeamID', 'WTeamID']]\n",
    "lossersTourney['Result'] = 0\n",
    "\n",
    "tourneyInput = pd.concat([winnersTourney, lossersTourney])\n",
    "tourneyInput = tourneyInput[tourneyInput['Season'] >= 2003].reset_index(drop=True)\n",
    "\n",
    "team1Seeds = []\n",
    "team2Seeds = []\n",
    "\n",
    "for x in range(len(tourneyInput)):\n",
    "    idx = tourneyInput['Season'][x], tourneyInput['Team1'][x]\n",
    "    seed = seedDict.loc[idx].values[0]\n",
    "    \n",
    "    if len(seed) == 4:\n",
    "        seed = int(seed[1:-1])\n",
    "    else:\n",
    "        seed = int(seed[1:])\n",
    "    team1Seeds.append(seed)\n",
    "    \n",
    "    idx = tourneyInput['Season'][x], tourneyInput['Team2'][x]\n",
    "    seed = seedDict.loc[idx].values[0]\n",
    "    \n",
    "    if len(seed) == 4:\n",
    "        seed = int(seed[1:-1])\n",
    "    else:\n",
    "        seed = int(seed[1:])\n",
    "    team2Seeds.append(seed)\n",
    "    \n",
    "tourneyInput['Team1Seed'] = team1Seeds\n",
    "tourneyInput['Team2Seed'] = team2Seeds\n",
    "\n",
    "display(tourneyInput)"
   ],
   "metadata": {
    "collapsed": false
   },
   "id": "a089661966ab9064",
   "execution_count": null
  },
  {
   "cell_type": "code",
   "outputs": [],
   "source": [
    "outscores = []\n",
    "\n",
    "for x in range(len(tourneyInput)):\n",
    "    idx = tourneyInput['Season'][x], tourneyInput['Team1'][x]\n",
    "    team1Score = mRegSeasonInput.loc[idx]\n",
    "    team1Score['Seed'] = tourneyInput['Team1Seed'][x]\n",
    "    \n",
    "    idx = tourneyInput['Season'][x], tourneyInput['Team2'][x]\n",
    "    team2Score = mRegSeasonInput.loc[idx]\n",
    "    team2Score['Seed'] = tourneyInput['Team2Seed'][x]\n",
    "    \n",
    "    outscore = team1Score - team2Score\n",
    "    outscore['Result'] = tourneyInput['Result'][x]\n",
    "    outscores.append(outscore)"
   ],
   "metadata": {
    "collapsed": false
   },
   "id": "c0691491bba80b0f",
   "execution_count": null
  },
  {
   "cell_type": "code",
   "outputs": [],
   "source": [
    "outscores = pd.DataFrame(outscores)\n",
    "display(outscores)\n",
    "display(outscores.describe())"
   ],
   "metadata": {
    "collapsed": false
   },
   "id": "5041338cbebff70d",
   "execution_count": null
  },
  {
   "cell_type": "code",
   "outputs": [],
   "source": [
    "corrs = round(outscores.corr(), 2)\n",
    "display(np.abs(corrs['Result']))\n",
    "\n",
    "plt.figure(figsize=(20,10))\n",
    "sns.heatmap(corrs)\n",
    "plt.show()"
   ],
   "metadata": {
    "collapsed": false
   },
   "id": "5bcb153c2dcddb7c",
   "execution_count": null
  },
  {
   "cell_type": "code",
   "outputs": [],
   "source": [
    "X = outscores[outscores.columns[:-1]].values\n",
    "y = outscores['Result'].values\n",
    "\n",
    "# Split the data\n",
    "np.random.seed(1)\n",
    "idx = np.random.permutation(len(X))\n",
    "\n",
    "train_idx = idx[:int(-.2*len(X))]\n",
    "test_idx = idx[int(-.2*len(X)):]\n",
    "\n",
    "X_train, X_test = X[train_idx], X[test_idx]\n",
    "y_train, y_test = y[train_idx], y[test_idx]\n",
    "\n",
    "#Scale the data\n",
    "mins = X_train.min(axis=0)\n",
    "maxs = X_train.max(axis=0)\n",
    "\n",
    "X_train = (X_train - mins) / (maxs - mins)\n",
    "X_test = (X_test - mins) / (maxs - mins)\n",
    "\n",
    "print(X_train.shape, X_test.shape, y_train.shape, y_test.shape)"
   ],
   "metadata": {
    "collapsed": false
   },
   "id": "2ac4259a872029de",
   "execution_count": null
  },
  {
   "cell_type": "code",
   "outputs": [],
   "source": [
    "model = RandomForestClassifier(random_state=1)\n",
    "model = model.fit(X_train, y_train)\n",
    "model.score(X_test, y_test)"
   ],
   "metadata": {
    "collapsed": false
   },
   "id": "235e1538cfa63257",
   "execution_count": null
  },
  {
   "cell_type": "code",
   "outputs": [],
   "source": [
    "mTourneySeeds24 = seeds24[seeds24['Tournament'] == 'M']\n",
    "display(mTourneySeeds24)"
   ],
   "metadata": {
    "collapsed": false
   },
   "id": "c3b3b9361fcb9534",
   "execution_count": null
  },
  {
   "cell_type": "code",
   "outputs": [],
   "source": [
    "mRegSeasonInput24 = mRegSeasonInput.loc[2024]\n",
    "display(mRegSeasonInput24)\n",
    "display(mRegSeasonInput24.describe())"
   ],
   "metadata": {
    "collapsed": false
   },
   "id": "735cb167f7dd218b",
   "execution_count": null
  },
  {
   "cell_type": "code",
   "outputs": [],
   "source": [
    "for x in range(len(mTourneySeeds24)):\n",
    "    seed = mTourneySeeds24['Seed'][x]\n",
    "    \n",
    "    if len(seed) == 4:\n",
    "        seed = int(seed[1:-1])\n",
    "    else:\n",
    "        seed = int(seed[1:])\n",
    "    mTourneySeeds24['Seed'][x] = seed\n",
    "    \n",
    "mTourneySeedDict24 = mTourneySeeds24.set_index('TeamID')['Seed'].to_dict()\n",
    "print(len(mTourneySeedDict24))\n",
    "print(mTourneySeedDict24)"
   ],
   "metadata": {
    "collapsed": false
   },
   "id": "a46c81e9a9c390d",
   "execution_count": null
  },
  {
   "cell_type": "code",
   "outputs": [],
   "source": [
    "# Pair every team against every other team for 2024\n",
    "pairs = []\n",
    "\n",
    "teams = list(mTourneySeedDict24.keys())\n",
    "\n",
    "for i in range(len(teams)):\n",
    "    for j in range(i + 1, len(teams)): # only add unique pairings\n",
    "        pair = (teams[i], mTourneySeedDict24[teams[i]], teams[j], mTourneySeedDict24[teams[j]])\n",
    "        pairs.append(pair)\n",
    "\n",
    "tourneyInput24 = pd.DataFrame(pairs, columns=['Team1', 'Seed1', 'Team2', 'Seed2'])\n",
    "print(len(tourneyInput24))"
   ],
   "metadata": {
    "collapsed": false
   },
   "id": "665096d22679531e",
   "execution_count": null
  },
  {
   "cell_type": "code",
   "outputs": [],
   "source": [
    "outScores24 = []\n",
    "\n",
    "for x in range(len(tourneyInput24)):\n",
    "    team1ID = tourneyInput24['Team1'][x]\n",
    "    team2ID = tourneyInput24['Team2'][x]\n",
    "    \n",
    "    team1Score = mRegSeasonInput.loc[2024, team1ID]\n",
    "    team2Score = mRegSeasonInput.loc[2024, team2ID]\n",
    "    \n",
    "    team1Score['Seed'] = int(tourneyInput24['Seed1'][x])\n",
    "    team2Score['Seed'] = int(tourneyInput24['Seed2'][x])\n",
    "    \n",
    "    outscore = team1Score - team2Score\n",
    "    outScores24.append(outscore)"
   ],
   "metadata": {
    "collapsed": false
   },
   "id": "cc5b2a00f439ec0",
   "execution_count": null
  },
  {
   "cell_type": "code",
   "outputs": [],
   "source": [
    "outScores24 = pd.DataFrame(outScores24)\n",
    "display(outScores24)\n",
    "display(outScores24.describe())"
   ],
   "metadata": {
    "collapsed": false
   },
   "id": "56de2283c01332a7",
   "execution_count": null
  },
  {
   "cell_type": "code",
   "outputs": [],
   "source": [
    "X24 = outScores24[outScores24.columns].values\n",
    "\n",
    "# Scale the new data\n",
    "XScaled24 = (X24 - mins) / (maxs - mins)\n",
    "\n",
    "predictions = model.predict(XScaled24)\n",
    "tourneyInput24['PredictedResult'] = predictions\n",
    "tourneyInput24.head(100)"
   ],
   "metadata": {
    "collapsed": false
   },
   "id": "7f55761f8b38b8b6",
   "execution_count": null
  },
  {
   "cell_type": "code",
   "outputs": [],
   "source": [
    "# Add team names to predictions\n",
    "finalOutput24 = tourneyInput24\n",
    "teamSpellingsDf = pd.read_excel('data/MTeamSpellings.xlsx')\n",
    "\n",
    "for index, row in tourneyInput24.iterrows():\n",
    "    team1Spelling = teamSpellingsDf.loc[teamSpellingsDf['TeamID'] == row['Team1'], 'TeamNameSpelling'].iloc[0]\n",
    "    team2Spelling = teamSpellingsDf.loc[teamSpellingsDf['TeamID'] == row['Team2'], 'TeamNameSpelling'].iloc[0]\n",
    "    \n",
    "    finalOutput24.at[index, 'Team1Spelling'] = team1Spelling\n",
    "    finalOutput24.at[index, 'Team2Spelling'] = team2Spelling\n",
    "\n",
    "display(finalOutput24)\n",
    "finalOutput24.to_csv('output.csv')"
   ],
   "metadata": {
    "collapsed": false
   },
   "id": "c3bab4ae4dc1affa",
   "execution_count": null
  }
 ],
 "metadata": {
  "kernelspec": {
   "display_name": "Python 3",
   "language": "python",
   "name": "python3"
  },
  "language_info": {
   "codemirror_mode": {
    "name": "ipython",
    "version": 2
   },
   "file_extension": ".py",
   "mimetype": "text/x-python",
   "name": "python",
   "nbconvert_exporter": "python",
   "pygments_lexer": "ipython2",
   "version": "2.7.6"
  }
 },
 "nbformat": 4,
 "nbformat_minor": 5
}

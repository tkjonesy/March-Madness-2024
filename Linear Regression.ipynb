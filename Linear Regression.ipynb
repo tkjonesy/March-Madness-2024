{
 "cells": [
  {
   "cell_type": "code",
   "execution_count": 12,
   "id": "initial_id",
   "metadata": {
    "collapsed": true,
    "ExecuteTime": {
     "end_time": "2025-03-09T15:49:45.442241Z",
     "start_time": "2025-03-09T15:49:45.438871Z"
    }
   },
   "outputs": [],
   "source": [
    "import pandas as pd\n",
    "import numpy as np\n",
    "from matplotlib import pyplot as plt\n",
    "import seaborn as sns"
   ]
  },
  {
   "cell_type": "markdown",
   "source": [
    "## Men's Data"
   ],
   "metadata": {
    "collapsed": false
   },
   "id": "e2ce688b25d32fa8"
  },
  {
   "cell_type": "code",
   "outputs": [],
   "source": [
    "# Load data into Pandas dataframes\n",
    "mRegDetail = pd.read_csv('data/men data/MRegularSeasonDetailedResults.csv')\n",
    "mNames = pd.read_csv('data/men data/MTeamSpellings.csv')"
   ],
   "metadata": {
    "collapsed": false,
    "ExecuteTime": {
     "end_time": "2025-03-09T15:49:45.582555Z",
     "start_time": "2025-03-09T15:49:45.442241Z"
    }
   },
   "id": "3cd32e70e72f9f34",
   "execution_count": 13
  },
  {
   "cell_type": "code",
   "outputs": [
    {
     "data": {
      "text/plain": "array(['Season', 'DayNum', 'WTeamID', 'WScore', 'LTeamID', 'LScore',\n       'WLoc', 'NumOT', 'WFGM', 'WFGA', 'WFGM3', 'WFGA3', 'WFTM', 'WFTA',\n       'WOR', 'WDR', 'WAst', 'WTO', 'WStl', 'WBlk', 'WPF', 'LFGM', 'LFGA',\n       'LFGM3', 'LFGA3', 'LFTM', 'LFTA', 'LOR', 'LDR', 'LAst', 'LTO',\n       'LStl', 'LBlk', 'LPF'], dtype=object)"
     },
     "metadata": {},
     "output_type": "display_data"
    }
   ],
   "source": [
    "display(mRegDetail.columns.values)"
   ],
   "metadata": {
    "collapsed": false,
    "ExecuteTime": {
     "end_time": "2025-03-09T15:49:45.585962Z",
     "start_time": "2025-03-09T15:49:45.583559Z"
    }
   },
   "id": "80b747df2f35b319",
   "execution_count": 14
  },
  {
   "cell_type": "code",
   "outputs": [],
   "source": [
    "# Split regular season detailed results into dataframes focused on outcome for one team\n",
    "mRegWinners = pd.DataFrame()\n",
    "mRegLossers = pd.DataFrame()\n",
    "\n",
    "# Establish new columns for that includes stats for one team\n",
    "columns = ['Season', 'TeamID', 'Score', 'OppScore',\n",
    "       'NumOT', 'FGM', 'FGA', 'FGM3', 'FGA3', 'FTM', 'FTA',\n",
    "       'OR', 'DR', 'Ast', 'TO', 'Stl', 'Blk', 'PF', 'OppFGM', 'OppFGA',\n",
    "       'OppFGM3', 'OppFGA3', 'OppFTM', 'OppFTA', 'OppOR', 'OppDR', 'OppAst', 'OppTO',\n",
    "       'OppStl', 'OppBlk', 'OppPF']"
   ],
   "metadata": {
    "collapsed": false,
    "ExecuteTime": {
     "end_time": "2025-03-09T15:49:45.600681Z",
     "start_time": "2025-03-09T15:49:45.585962Z"
    }
   },
   "id": "bf43b1c86fc39a42",
   "execution_count": 15
  },
  {
   "cell_type": "code",
   "outputs": [],
   "source": [
    "# Split winners from regular season\n",
    "mRegWinners[columns] = mRegDetail[['Season', 'WTeamID', 'WScore', 'LScore',\n",
    "       'NumOT', 'WFGM', 'WFGA', 'WFGM3', 'WFGA3', 'WFTM', 'WFTA',\n",
    "       'WOR', 'WDR', 'WAst', 'WTO', 'WStl', 'WBlk', 'WPF', 'LFGM', 'LFGA',\n",
    "       'LFGM3', 'LFGA3', 'LFTM', 'LFTA', 'LOR', 'LDR', 'LAst', 'LTO',\n",
    "       'LStl', 'LBlk', 'LPF']]\n",
    "\n",
    "# Add wins and losses columns\n",
    "mRegWinners['Wins'] = 1\n",
    "mRegWinners['Losses'] = 0"
   ],
   "metadata": {
    "collapsed": false,
    "ExecuteTime": {
     "end_time": "2025-03-09T15:49:45.629848Z",
     "start_time": "2025-03-09T15:49:45.600681Z"
    }
   },
   "id": "1a8acc93dbbae2d7",
   "execution_count": 16
  },
  {
   "cell_type": "code",
   "outputs": [],
   "source": [
    "# Split lossers from regular season\n",
    "mRegLossers[columns] = mRegDetail[['Season', 'LTeamID', 'LScore', 'WScore',\n",
    "       'NumOT', 'LFGM', 'LFGA', 'LFGM3', 'LFGA3', 'LFTM', 'LFTA',\n",
    "       'LOR', 'LDR', 'LAst', 'LTO', 'LStl', 'LBlk', 'LPF', 'WFGM', 'WFGA',\n",
    "       'WFGM3', 'WFGA3', 'WFTM', 'WFTA','WOR', 'WDR', 'WAst', 'WTO',\n",
    "       'WStl', 'WBlk', 'WPF']]\n",
    "\n",
    "# Add wins and losses columns\n",
    "mRegLossers['Wins'] = 0\n",
    "mRegLossers['Losses'] = 1"
   ],
   "metadata": {
    "collapsed": false,
    "ExecuteTime": {
     "end_time": "2025-03-09T15:49:45.651652Z",
     "start_time": "2025-03-09T15:49:45.629848Z"
    }
   },
   "id": "b82d9349edc71d09",
   "execution_count": 17
  },
  {
   "cell_type": "code",
   "outputs": [],
   "source": [
    "# Combine all games into one dataframe\n",
    "mAllRegDetail = pd.concat([mRegWinners, mRegLossers])"
   ],
   "metadata": {
    "collapsed": false,
    "ExecuteTime": {
     "end_time": "2025-03-09T15:49:45.673380Z",
     "start_time": "2025-03-09T15:49:45.651652Z"
    }
   },
   "id": "7343b00600410b9b",
   "execution_count": 18
  },
  {
   "cell_type": "code",
   "outputs": [],
   "source": [
    "# Sum stats for each season for each team for regular season\n",
    "mRegSeasonDetail = mAllRegDetail.groupby(['Season', 'TeamID']).sum(numeric_only=True)\n",
    "mRegSeasonDetail['NumGames'] = mRegSeasonDetail['Wins'] + mRegSeasonDetail['Losses']"
   ],
   "metadata": {
    "collapsed": false,
    "ExecuteTime": {
     "end_time": "2025-03-09T15:49:45.709695Z",
     "start_time": "2025-03-09T15:49:45.673380Z"
    }
   },
   "id": "521360e807d5a23a",
   "execution_count": 19
  },
  {
   "cell_type": "code",
   "outputs": [
    {
     "data": {
      "text/plain": "array(['Score', 'OppScore', 'NumOT', 'FGM', 'FGA', 'FGM3', 'FGA3', 'FTM',\n       'FTA', 'OR', 'DR', 'Ast', 'TO', 'Stl', 'Blk', 'PF', 'OppFGM',\n       'OppFGA', 'OppFGM3', 'OppFGA3', 'OppFTM', 'OppFTA', 'OppOR',\n       'OppDR', 'OppAst', 'OppTO', 'OppStl', 'OppBlk', 'OppPF', 'Wins',\n       'Losses', 'NumGames'], dtype=object)"
     },
     "metadata": {},
     "output_type": "display_data"
    }
   ],
   "source": [
    "display(mRegSeasonDetail.columns.values)"
   ],
   "metadata": {
    "collapsed": false,
    "ExecuteTime": {
     "end_time": "2025-03-09T16:05:21.608718Z",
     "start_time": "2025-03-09T16:05:21.604568Z"
    }
   },
   "id": "deab2407330773e",
   "execution_count": 24
  },
  {
   "cell_type": "code",
   "outputs": [
    {
     "data": {
      "text/plain": "               Score  OppScore  NumOT  FGM   FGA  FGM3  FGA3  FTM  FTA   OR  \\\nSeason TeamID                                                                 \n2003   1102     1603      1596      0  536  1114   219   583  312  479  117   \n       1103     2127      2110      8  733  1508   147   434  514  698  264   \n       1104     1940      1820      1  673  1601   178   556  416  586  380   \n       1105     1866      1993      4  634  1602   197   540  401  568  351   \n       1106     1781      1785      1  656  1548   171   494  298  461  344   \n...              ...       ...    ...  ...   ...   ...   ...  ...  ...  ...   \n2025   1476     1964      2056      0  676  1561   250   701  362  499  204   \n       1477     1995      2321      1  713  1714   260   828  309  480  246   \n       1478     2091      2356      7  718  1609   221   669  434  605  216   \n       1479     1842      2009      3  635  1507   196   549  376  466  174   \n       1480     2033      2365      0  760  1779   159   536  354  513  245   \n\n               ...  OppOR  OppDR  OppAst  OppTO  OppStl  OppBlk  OppPF  Wins  \\\nSeason TeamID  ...                                                             \n2003   1102    ...    269    564     256    363     152      44    514    12   \n       1103    ...    325    595     418    414     173      77    606    13   \n       1104    ...    305    634     327    388     155      89    539    17   \n       1105    ...    343    686     411    489     244     109    496     7   \n       1106    ...    317    626     330    422     246      89    452    13   \n...            ...    ...    ...     ...    ...     ...     ...    ...   ...   \n2025   1476    ...    258    644     299    289     196     111    457    13   \n       1477    ...    311    728     491    404     286     119    476     5   \n       1478    ...    302    671     464    318     215      84    512     7   \n       1479    ...    233    662     389    351     161      79    472    12   \n       1480    ...    234    754     471    326     206      93    461     5   \n\n               Losses  NumGames  \nSeason TeamID                    \n2003   1102        16        28  \n       1103        14        27  \n       1104        11        28  \n       1105        19        26  \n       1106        15        28  \n...               ...       ...  \n2025   1476        16        29  \n       1477        26        31  \n       1478        22        29  \n       1479        16        28  \n       1480        25        30  \n\n[7981 rows x 32 columns]",
      "text/html": "<div>\n<style scoped>\n    .dataframe tbody tr th:only-of-type {\n        vertical-align: middle;\n    }\n\n    .dataframe tbody tr th {\n        vertical-align: top;\n    }\n\n    .dataframe thead th {\n        text-align: right;\n    }\n</style>\n<table border=\"1\" class=\"dataframe\">\n  <thead>\n    <tr style=\"text-align: right;\">\n      <th></th>\n      <th></th>\n      <th>Score</th>\n      <th>OppScore</th>\n      <th>NumOT</th>\n      <th>FGM</th>\n      <th>FGA</th>\n      <th>FGM3</th>\n      <th>FGA3</th>\n      <th>FTM</th>\n      <th>FTA</th>\n      <th>OR</th>\n      <th>...</th>\n      <th>OppOR</th>\n      <th>OppDR</th>\n      <th>OppAst</th>\n      <th>OppTO</th>\n      <th>OppStl</th>\n      <th>OppBlk</th>\n      <th>OppPF</th>\n      <th>Wins</th>\n      <th>Losses</th>\n      <th>NumGames</th>\n    </tr>\n    <tr>\n      <th>Season</th>\n      <th>TeamID</th>\n      <th></th>\n      <th></th>\n      <th></th>\n      <th></th>\n      <th></th>\n      <th></th>\n      <th></th>\n      <th></th>\n      <th></th>\n      <th></th>\n      <th></th>\n      <th></th>\n      <th></th>\n      <th></th>\n      <th></th>\n      <th></th>\n      <th></th>\n      <th></th>\n      <th></th>\n      <th></th>\n      <th></th>\n    </tr>\n  </thead>\n  <tbody>\n    <tr>\n      <th rowspan=\"5\" valign=\"top\">2003</th>\n      <th>1102</th>\n      <td>1603</td>\n      <td>1596</td>\n      <td>0</td>\n      <td>536</td>\n      <td>1114</td>\n      <td>219</td>\n      <td>583</td>\n      <td>312</td>\n      <td>479</td>\n      <td>117</td>\n      <td>...</td>\n      <td>269</td>\n      <td>564</td>\n      <td>256</td>\n      <td>363</td>\n      <td>152</td>\n      <td>44</td>\n      <td>514</td>\n      <td>12</td>\n      <td>16</td>\n      <td>28</td>\n    </tr>\n    <tr>\n      <th>1103</th>\n      <td>2127</td>\n      <td>2110</td>\n      <td>8</td>\n      <td>733</td>\n      <td>1508</td>\n      <td>147</td>\n      <td>434</td>\n      <td>514</td>\n      <td>698</td>\n      <td>264</td>\n      <td>...</td>\n      <td>325</td>\n      <td>595</td>\n      <td>418</td>\n      <td>414</td>\n      <td>173</td>\n      <td>77</td>\n      <td>606</td>\n      <td>13</td>\n      <td>14</td>\n      <td>27</td>\n    </tr>\n    <tr>\n      <th>1104</th>\n      <td>1940</td>\n      <td>1820</td>\n      <td>1</td>\n      <td>673</td>\n      <td>1601</td>\n      <td>178</td>\n      <td>556</td>\n      <td>416</td>\n      <td>586</td>\n      <td>380</td>\n      <td>...</td>\n      <td>305</td>\n      <td>634</td>\n      <td>327</td>\n      <td>388</td>\n      <td>155</td>\n      <td>89</td>\n      <td>539</td>\n      <td>17</td>\n      <td>11</td>\n      <td>28</td>\n    </tr>\n    <tr>\n      <th>1105</th>\n      <td>1866</td>\n      <td>1993</td>\n      <td>4</td>\n      <td>634</td>\n      <td>1602</td>\n      <td>197</td>\n      <td>540</td>\n      <td>401</td>\n      <td>568</td>\n      <td>351</td>\n      <td>...</td>\n      <td>343</td>\n      <td>686</td>\n      <td>411</td>\n      <td>489</td>\n      <td>244</td>\n      <td>109</td>\n      <td>496</td>\n      <td>7</td>\n      <td>19</td>\n      <td>26</td>\n    </tr>\n    <tr>\n      <th>1106</th>\n      <td>1781</td>\n      <td>1785</td>\n      <td>1</td>\n      <td>656</td>\n      <td>1548</td>\n      <td>171</td>\n      <td>494</td>\n      <td>298</td>\n      <td>461</td>\n      <td>344</td>\n      <td>...</td>\n      <td>317</td>\n      <td>626</td>\n      <td>330</td>\n      <td>422</td>\n      <td>246</td>\n      <td>89</td>\n      <td>452</td>\n      <td>13</td>\n      <td>15</td>\n      <td>28</td>\n    </tr>\n    <tr>\n      <th>...</th>\n      <th>...</th>\n      <td>...</td>\n      <td>...</td>\n      <td>...</td>\n      <td>...</td>\n      <td>...</td>\n      <td>...</td>\n      <td>...</td>\n      <td>...</td>\n      <td>...</td>\n      <td>...</td>\n      <td>...</td>\n      <td>...</td>\n      <td>...</td>\n      <td>...</td>\n      <td>...</td>\n      <td>...</td>\n      <td>...</td>\n      <td>...</td>\n      <td>...</td>\n      <td>...</td>\n      <td>...</td>\n    </tr>\n    <tr>\n      <th rowspan=\"5\" valign=\"top\">2025</th>\n      <th>1476</th>\n      <td>1964</td>\n      <td>2056</td>\n      <td>0</td>\n      <td>676</td>\n      <td>1561</td>\n      <td>250</td>\n      <td>701</td>\n      <td>362</td>\n      <td>499</td>\n      <td>204</td>\n      <td>...</td>\n      <td>258</td>\n      <td>644</td>\n      <td>299</td>\n      <td>289</td>\n      <td>196</td>\n      <td>111</td>\n      <td>457</td>\n      <td>13</td>\n      <td>16</td>\n      <td>29</td>\n    </tr>\n    <tr>\n      <th>1477</th>\n      <td>1995</td>\n      <td>2321</td>\n      <td>1</td>\n      <td>713</td>\n      <td>1714</td>\n      <td>260</td>\n      <td>828</td>\n      <td>309</td>\n      <td>480</td>\n      <td>246</td>\n      <td>...</td>\n      <td>311</td>\n      <td>728</td>\n      <td>491</td>\n      <td>404</td>\n      <td>286</td>\n      <td>119</td>\n      <td>476</td>\n      <td>5</td>\n      <td>26</td>\n      <td>31</td>\n    </tr>\n    <tr>\n      <th>1478</th>\n      <td>2091</td>\n      <td>2356</td>\n      <td>7</td>\n      <td>718</td>\n      <td>1609</td>\n      <td>221</td>\n      <td>669</td>\n      <td>434</td>\n      <td>605</td>\n      <td>216</td>\n      <td>...</td>\n      <td>302</td>\n      <td>671</td>\n      <td>464</td>\n      <td>318</td>\n      <td>215</td>\n      <td>84</td>\n      <td>512</td>\n      <td>7</td>\n      <td>22</td>\n      <td>29</td>\n    </tr>\n    <tr>\n      <th>1479</th>\n      <td>1842</td>\n      <td>2009</td>\n      <td>3</td>\n      <td>635</td>\n      <td>1507</td>\n      <td>196</td>\n      <td>549</td>\n      <td>376</td>\n      <td>466</td>\n      <td>174</td>\n      <td>...</td>\n      <td>233</td>\n      <td>662</td>\n      <td>389</td>\n      <td>351</td>\n      <td>161</td>\n      <td>79</td>\n      <td>472</td>\n      <td>12</td>\n      <td>16</td>\n      <td>28</td>\n    </tr>\n    <tr>\n      <th>1480</th>\n      <td>2033</td>\n      <td>2365</td>\n      <td>0</td>\n      <td>760</td>\n      <td>1779</td>\n      <td>159</td>\n      <td>536</td>\n      <td>354</td>\n      <td>513</td>\n      <td>245</td>\n      <td>...</td>\n      <td>234</td>\n      <td>754</td>\n      <td>471</td>\n      <td>326</td>\n      <td>206</td>\n      <td>93</td>\n      <td>461</td>\n      <td>5</td>\n      <td>25</td>\n      <td>30</td>\n    </tr>\n  </tbody>\n</table>\n<p>7981 rows × 32 columns</p>\n</div>"
     },
     "execution_count": 20,
     "metadata": {},
     "output_type": "execute_result"
    }
   ],
   "source": [
    "mRegSeasonDetail"
   ],
   "metadata": {
    "collapsed": false,
    "ExecuteTime": {
     "end_time": "2025-03-09T15:49:45.719451Z",
     "start_time": "2025-03-09T15:49:45.709695Z"
    }
   },
   "id": "99abac55d28e4b2a",
   "execution_count": 20
  },
  {
   "cell_type": "code",
   "outputs": [],
   "source": [
    "# Create ___ per game stat for each boxscore stat\n",
    "mRegSeasonFeatures = pd.DataFrame()\n",
    "\n",
    "stats = ['Score', 'OppScore', 'NumOT', 'FGM', 'FGA', 'FGM3', 'FGA3', 'FTM', 'FTA',\n",
    "       'OR', 'DR', 'Ast', 'TO', 'Stl', 'Blk', 'PF', 'OppFGM', 'OppFGA',\n",
    "       'OppFGM3', 'OppFGA3', 'OppFTM', 'OppFTA', 'OppOR', 'OppDR', 'OppAst', 'OppTO',\n",
    "       'OppStl', 'OppBlk', 'OppPF']\n",
    "\n",
    "for col in stats:\n",
    "    mRegSeasonFeatures[col + '_PerGame'] = mRegSeasonDetail[col] / mRegSeasonDetail['NumGames']"
   ],
   "metadata": {
    "collapsed": false,
    "ExecuteTime": {
     "end_time": "2025-03-09T15:49:45.728632Z",
     "start_time": "2025-03-09T15:49:45.719451Z"
    }
   },
   "id": "4fdbf5f36ac02eb1",
   "execution_count": 21
  },
  {
   "cell_type": "code",
   "outputs": [],
   "source": [
    "# Create additional features\n",
    "mRegSeasonFeatures['PointRatio'] = mRegSeasonDetail['Score'] / mRegSeasonDetail['OppScore'] # Points ratio\n",
    "mRegSeasonFeatures['W/L'] = mRegSeasonDetail['Wins'] / mRegSeasonDetail['Losses'] # Win/Loss ratio\n",
    "mRegSeasonFeatures['MOV'] = (mRegSeasonDetail['Score'] - mRegSeasonDetail['OppScore']) / mRegSeasonDetail['NumGames'] # Margin of victory\n",
    "mRegSeasonFeatures['TORatio'] = mRegSeasonFeatures['TO_PerGame'] / mRegSeasonFeatures['OppTO_PerGame'] # Turnover ratio\n",
    "mRegSeasonFeatures['FGM%'] = mRegSeasonDetail['FGM'] / mRegSeasonDetail['FGA'] # Scoring efficieny\n",
    "mRegSeasonFeatures['FG3%M'] = mRegSeasonDetail['FGM3'] / mRegSeasonDetail['FGA3'] # 3-Point efficiency\n",
    "mRegSeasonFeatures['FGA3%'] = mRegSeasonDetail['FGA3'] / mRegSeasonDetail['FGA'] # 3-Point attempt rate\n",
    "mRegSeasonFeatures['FTM%'] = mRegSeasonDetail['FTM'] / mRegSeasonDetail['FTA'] # Free throw makes %\n",
    "mRegSeasonFeatures['FTA%'] = mRegSeasonDetail['FTA'] / mRegSeasonDetail['FGA'] # Free throw attempt rate\n",
    "mRegSeasonFeatures['OppFTA%'] = mRegSeasonDetail['OppFTA'] / mRegSeasonDetail['OppFGA'] # Opponent free throw attempt rate\n",
    "mRegSeasonFeatures['OR%'] = mRegSeasonDetail['OR'] / (mRegSeasonDetail['OR'] + mRegSeasonDetail['OppDR']) # Offensive rebound %\n",
    "mRegSeasonFeatures['DR%'] = mRegSeasonDetail['DR'] / (mRegSeasonDetail['DR'] + mRegSeasonDetail['OppOR']) # Defensive rebound %"
   ],
   "metadata": {
    "collapsed": false,
    "ExecuteTime": {
     "end_time": "2025-03-09T15:49:45.736231Z",
     "start_time": "2025-03-09T15:49:45.729635Z"
    }
   },
   "id": "9bf74cd56f908856",
   "execution_count": 22
  },
  {
   "cell_type": "code",
   "outputs": [
    {
     "data": {
      "text/plain": "               Score_PerGame  OppScore_PerGame  NumOT_PerGame  FGM_PerGame  \\\nSeason TeamID                                                                \n2003   1102        57.250000         57.000000       0.000000    19.142857   \n       1103        78.777778         78.148148       0.296296    27.148148   \n       1104        69.285714         65.000000       0.035714    24.035714   \n       1105        71.769231         76.653846       0.153846    24.384615   \n       1106        63.607143         63.750000       0.035714    23.428571   \n...                      ...               ...            ...          ...   \n2025   1476        67.724138         70.896552       0.000000    23.310345   \n       1477        64.354839         74.870968       0.032258    23.000000   \n       1478        72.103448         81.241379       0.241379    24.758621   \n       1479        65.785714         71.750000       0.107143    22.678571   \n       1480        67.766667         78.833333       0.000000    25.333333   \n\n               FGA_PerGame  FGM3_PerGame  FGA3_PerGame  FTM_PerGame  \\\nSeason TeamID                                                         \n2003   1102      39.785714      7.821429     20.821429    11.142857   \n       1103      55.851852      5.444444     16.074074    19.037037   \n       1104      57.178571      6.357143     19.857143    14.857143   \n       1105      61.615385      7.576923     20.769231    15.423077   \n       1106      55.285714      6.107143     17.642857    10.642857   \n...                    ...           ...           ...          ...   \n2025   1476      53.827586      8.620690     24.172414    12.482759   \n       1477      55.290323      8.387097     26.709677     9.967742   \n       1478      55.482759      7.620690     23.068966    14.965517   \n       1479      53.821429      7.000000     19.607143    13.428571   \n       1480      59.300000      5.300000     17.866667    11.800000   \n\n               FTA_PerGame  OR_PerGame  ...        MOV   TORatio      FGM%  \\\nSeason TeamID                           ...                                  \n2003   1102      17.107143    4.178571  ...   0.250000  0.881543  0.481149   \n       1103      25.851852    9.777778  ...   0.629630  0.823671  0.486074   \n       1104      20.928571   13.571429  ...   4.285714  0.958763  0.420362   \n       1105      21.846154   13.500000  ...  -4.884615  0.991820  0.395755   \n       1106      16.464286   12.285714  ...  -0.142857  1.130332  0.423773   \n...                    ...         ...  ...        ...       ...       ...   \n2025   1476      17.206897    7.034483  ...  -3.172414  1.124567  0.433056   \n       1477      15.483871    7.935484  ... -10.516129  1.121287  0.415986   \n       1478      20.862069    7.448276  ...  -9.137931  1.185535  0.446240   \n       1479      16.642857    6.214286  ...  -5.964286  0.777778  0.421367   \n       1480      17.100000    8.166667  ... -11.066667  0.969325  0.427206   \n\n                  FG3%M     FGA3%      FTM%      FTA%   OppFTA%       OR%  \\\nSeason TeamID                                                               \n2003   1102    0.375643  0.523339  0.651357  0.429982  0.453704  0.171806   \n       1103    0.338710  0.287798  0.736390  0.462865  0.388564  0.307334   \n       1104    0.320144  0.347283  0.709898  0.366021  0.308880  0.374753   \n       1105    0.364815  0.337079  0.705986  0.354557  0.415525  0.338476   \n       1106    0.346154  0.319121  0.646421  0.297804  0.411371  0.354639   \n...                 ...       ...       ...       ...       ...       ...   \n2025   1476    0.356633  0.449071  0.725451  0.319667  0.330079  0.240566   \n       1477    0.314010  0.483081  0.643750  0.280047  0.364834  0.252567   \n       1478    0.330344  0.415786  0.717355  0.376010  0.371396  0.243517   \n       1479    0.357013  0.364300  0.806867  0.309224  0.382775  0.208134   \n       1480    0.296642  0.301293  0.690058  0.288364  0.362573  0.245245   \n\n                    DR%  \nSeason TeamID            \n2003   1102    0.636486  \n       1103    0.623407  \n       1104    0.687179  \n       1105    0.636653  \n       1106    0.678173  \n...                 ...  \n2025   1476    0.715859  \n       1477    0.654444  \n       1478    0.676313  \n       1479    0.686406  \n       1480    0.730725  \n\n[7981 rows x 41 columns]",
      "text/html": "<div>\n<style scoped>\n    .dataframe tbody tr th:only-of-type {\n        vertical-align: middle;\n    }\n\n    .dataframe tbody tr th {\n        vertical-align: top;\n    }\n\n    .dataframe thead th {\n        text-align: right;\n    }\n</style>\n<table border=\"1\" class=\"dataframe\">\n  <thead>\n    <tr style=\"text-align: right;\">\n      <th></th>\n      <th></th>\n      <th>Score_PerGame</th>\n      <th>OppScore_PerGame</th>\n      <th>NumOT_PerGame</th>\n      <th>FGM_PerGame</th>\n      <th>FGA_PerGame</th>\n      <th>FGM3_PerGame</th>\n      <th>FGA3_PerGame</th>\n      <th>FTM_PerGame</th>\n      <th>FTA_PerGame</th>\n      <th>OR_PerGame</th>\n      <th>...</th>\n      <th>MOV</th>\n      <th>TORatio</th>\n      <th>FGM%</th>\n      <th>FG3%M</th>\n      <th>FGA3%</th>\n      <th>FTM%</th>\n      <th>FTA%</th>\n      <th>OppFTA%</th>\n      <th>OR%</th>\n      <th>DR%</th>\n    </tr>\n    <tr>\n      <th>Season</th>\n      <th>TeamID</th>\n      <th></th>\n      <th></th>\n      <th></th>\n      <th></th>\n      <th></th>\n      <th></th>\n      <th></th>\n      <th></th>\n      <th></th>\n      <th></th>\n      <th></th>\n      <th></th>\n      <th></th>\n      <th></th>\n      <th></th>\n      <th></th>\n      <th></th>\n      <th></th>\n      <th></th>\n      <th></th>\n      <th></th>\n    </tr>\n  </thead>\n  <tbody>\n    <tr>\n      <th rowspan=\"5\" valign=\"top\">2003</th>\n      <th>1102</th>\n      <td>57.250000</td>\n      <td>57.000000</td>\n      <td>0.000000</td>\n      <td>19.142857</td>\n      <td>39.785714</td>\n      <td>7.821429</td>\n      <td>20.821429</td>\n      <td>11.142857</td>\n      <td>17.107143</td>\n      <td>4.178571</td>\n      <td>...</td>\n      <td>0.250000</td>\n      <td>0.881543</td>\n      <td>0.481149</td>\n      <td>0.375643</td>\n      <td>0.523339</td>\n      <td>0.651357</td>\n      <td>0.429982</td>\n      <td>0.453704</td>\n      <td>0.171806</td>\n      <td>0.636486</td>\n    </tr>\n    <tr>\n      <th>1103</th>\n      <td>78.777778</td>\n      <td>78.148148</td>\n      <td>0.296296</td>\n      <td>27.148148</td>\n      <td>55.851852</td>\n      <td>5.444444</td>\n      <td>16.074074</td>\n      <td>19.037037</td>\n      <td>25.851852</td>\n      <td>9.777778</td>\n      <td>...</td>\n      <td>0.629630</td>\n      <td>0.823671</td>\n      <td>0.486074</td>\n      <td>0.338710</td>\n      <td>0.287798</td>\n      <td>0.736390</td>\n      <td>0.462865</td>\n      <td>0.388564</td>\n      <td>0.307334</td>\n      <td>0.623407</td>\n    </tr>\n    <tr>\n      <th>1104</th>\n      <td>69.285714</td>\n      <td>65.000000</td>\n      <td>0.035714</td>\n      <td>24.035714</td>\n      <td>57.178571</td>\n      <td>6.357143</td>\n      <td>19.857143</td>\n      <td>14.857143</td>\n      <td>20.928571</td>\n      <td>13.571429</td>\n      <td>...</td>\n      <td>4.285714</td>\n      <td>0.958763</td>\n      <td>0.420362</td>\n      <td>0.320144</td>\n      <td>0.347283</td>\n      <td>0.709898</td>\n      <td>0.366021</td>\n      <td>0.308880</td>\n      <td>0.374753</td>\n      <td>0.687179</td>\n    </tr>\n    <tr>\n      <th>1105</th>\n      <td>71.769231</td>\n      <td>76.653846</td>\n      <td>0.153846</td>\n      <td>24.384615</td>\n      <td>61.615385</td>\n      <td>7.576923</td>\n      <td>20.769231</td>\n      <td>15.423077</td>\n      <td>21.846154</td>\n      <td>13.500000</td>\n      <td>...</td>\n      <td>-4.884615</td>\n      <td>0.991820</td>\n      <td>0.395755</td>\n      <td>0.364815</td>\n      <td>0.337079</td>\n      <td>0.705986</td>\n      <td>0.354557</td>\n      <td>0.415525</td>\n      <td>0.338476</td>\n      <td>0.636653</td>\n    </tr>\n    <tr>\n      <th>1106</th>\n      <td>63.607143</td>\n      <td>63.750000</td>\n      <td>0.035714</td>\n      <td>23.428571</td>\n      <td>55.285714</td>\n      <td>6.107143</td>\n      <td>17.642857</td>\n      <td>10.642857</td>\n      <td>16.464286</td>\n      <td>12.285714</td>\n      <td>...</td>\n      <td>-0.142857</td>\n      <td>1.130332</td>\n      <td>0.423773</td>\n      <td>0.346154</td>\n      <td>0.319121</td>\n      <td>0.646421</td>\n      <td>0.297804</td>\n      <td>0.411371</td>\n      <td>0.354639</td>\n      <td>0.678173</td>\n    </tr>\n    <tr>\n      <th>...</th>\n      <th>...</th>\n      <td>...</td>\n      <td>...</td>\n      <td>...</td>\n      <td>...</td>\n      <td>...</td>\n      <td>...</td>\n      <td>...</td>\n      <td>...</td>\n      <td>...</td>\n      <td>...</td>\n      <td>...</td>\n      <td>...</td>\n      <td>...</td>\n      <td>...</td>\n      <td>...</td>\n      <td>...</td>\n      <td>...</td>\n      <td>...</td>\n      <td>...</td>\n      <td>...</td>\n      <td>...</td>\n    </tr>\n    <tr>\n      <th rowspan=\"5\" valign=\"top\">2025</th>\n      <th>1476</th>\n      <td>67.724138</td>\n      <td>70.896552</td>\n      <td>0.000000</td>\n      <td>23.310345</td>\n      <td>53.827586</td>\n      <td>8.620690</td>\n      <td>24.172414</td>\n      <td>12.482759</td>\n      <td>17.206897</td>\n      <td>7.034483</td>\n      <td>...</td>\n      <td>-3.172414</td>\n      <td>1.124567</td>\n      <td>0.433056</td>\n      <td>0.356633</td>\n      <td>0.449071</td>\n      <td>0.725451</td>\n      <td>0.319667</td>\n      <td>0.330079</td>\n      <td>0.240566</td>\n      <td>0.715859</td>\n    </tr>\n    <tr>\n      <th>1477</th>\n      <td>64.354839</td>\n      <td>74.870968</td>\n      <td>0.032258</td>\n      <td>23.000000</td>\n      <td>55.290323</td>\n      <td>8.387097</td>\n      <td>26.709677</td>\n      <td>9.967742</td>\n      <td>15.483871</td>\n      <td>7.935484</td>\n      <td>...</td>\n      <td>-10.516129</td>\n      <td>1.121287</td>\n      <td>0.415986</td>\n      <td>0.314010</td>\n      <td>0.483081</td>\n      <td>0.643750</td>\n      <td>0.280047</td>\n      <td>0.364834</td>\n      <td>0.252567</td>\n      <td>0.654444</td>\n    </tr>\n    <tr>\n      <th>1478</th>\n      <td>72.103448</td>\n      <td>81.241379</td>\n      <td>0.241379</td>\n      <td>24.758621</td>\n      <td>55.482759</td>\n      <td>7.620690</td>\n      <td>23.068966</td>\n      <td>14.965517</td>\n      <td>20.862069</td>\n      <td>7.448276</td>\n      <td>...</td>\n      <td>-9.137931</td>\n      <td>1.185535</td>\n      <td>0.446240</td>\n      <td>0.330344</td>\n      <td>0.415786</td>\n      <td>0.717355</td>\n      <td>0.376010</td>\n      <td>0.371396</td>\n      <td>0.243517</td>\n      <td>0.676313</td>\n    </tr>\n    <tr>\n      <th>1479</th>\n      <td>65.785714</td>\n      <td>71.750000</td>\n      <td>0.107143</td>\n      <td>22.678571</td>\n      <td>53.821429</td>\n      <td>7.000000</td>\n      <td>19.607143</td>\n      <td>13.428571</td>\n      <td>16.642857</td>\n      <td>6.214286</td>\n      <td>...</td>\n      <td>-5.964286</td>\n      <td>0.777778</td>\n      <td>0.421367</td>\n      <td>0.357013</td>\n      <td>0.364300</td>\n      <td>0.806867</td>\n      <td>0.309224</td>\n      <td>0.382775</td>\n      <td>0.208134</td>\n      <td>0.686406</td>\n    </tr>\n    <tr>\n      <th>1480</th>\n      <td>67.766667</td>\n      <td>78.833333</td>\n      <td>0.000000</td>\n      <td>25.333333</td>\n      <td>59.300000</td>\n      <td>5.300000</td>\n      <td>17.866667</td>\n      <td>11.800000</td>\n      <td>17.100000</td>\n      <td>8.166667</td>\n      <td>...</td>\n      <td>-11.066667</td>\n      <td>0.969325</td>\n      <td>0.427206</td>\n      <td>0.296642</td>\n      <td>0.301293</td>\n      <td>0.690058</td>\n      <td>0.288364</td>\n      <td>0.362573</td>\n      <td>0.245245</td>\n      <td>0.730725</td>\n    </tr>\n  </tbody>\n</table>\n<p>7981 rows × 41 columns</p>\n</div>"
     },
     "execution_count": 23,
     "metadata": {},
     "output_type": "execute_result"
    }
   ],
   "source": [
    "mRegSeasonFeatures"
   ],
   "metadata": {
    "collapsed": false,
    "ExecuteTime": {
     "end_time": "2025-03-09T15:49:45.754067Z",
     "start_time": "2025-03-09T15:49:45.736231Z"
    }
   },
   "id": "7ab0f9388383e46a",
   "execution_count": 23
  }
 ],
 "metadata": {
  "kernelspec": {
   "display_name": "Python 3",
   "language": "python",
   "name": "python3"
  },
  "language_info": {
   "codemirror_mode": {
    "name": "ipython",
    "version": 2
   },
   "file_extension": ".py",
   "mimetype": "text/x-python",
   "name": "python",
   "nbconvert_exporter": "python",
   "pygments_lexer": "ipython2",
   "version": "2.7.6"
  }
 },
 "nbformat": 4,
 "nbformat_minor": 5
}

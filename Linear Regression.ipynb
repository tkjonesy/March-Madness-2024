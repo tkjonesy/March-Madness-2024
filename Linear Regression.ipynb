{
 "cells": [
  {
   "cell_type": "code",
   "execution_count": 1,
   "id": "initial_id",
   "metadata": {
    "collapsed": true,
    "ExecuteTime": {
     "end_time": "2025-03-08T21:55:13.108541Z",
     "start_time": "2025-03-08T21:55:13.104328Z"
    }
   },
   "outputs": [],
   "source": [
    "import pandas as pd\n",
    "import numpy as np\n",
    "from matplotlib import pyplot as plt\n",
    "import seaborn as sns"
   ]
  },
  {
   "cell_type": "markdown",
   "source": [
    "## Men's Data"
   ],
   "metadata": {
    "collapsed": false
   },
   "id": "e2ce688b25d32fa8"
  },
  {
   "cell_type": "code",
   "outputs": [],
   "source": [
    "# Load data into Pandas dataframes\n",
    "mRegDetail = pd.read_csv('data/men data/MRegularSeasonDetailedResults.csv')\n",
    "mTournDetail = pd.read_csv('data/men data/MNCAATourneyDetailedResults.csv')\n",
    "mNames = pd.read_csv('data/men data/MTeamSpellings.csv')"
   ],
   "metadata": {
    "collapsed": false,
    "ExecuteTime": {
     "end_time": "2025-03-08T21:59:29.064094Z",
     "start_time": "2025-03-08T21:59:28.863867Z"
    }
   },
   "id": "3cd32e70e72f9f34",
   "execution_count": 5
  },
  {
   "cell_type": "code",
   "outputs": [
    {
     "data": {
      "text/plain": "        Season  DayNum  WTeamID  WScore  LTeamID  LScore WLoc  NumOT  WFGM  \\\n0         2003      10     1104      68     1328      62    N      0    27   \n1         2003      10     1272      70     1393      63    N      0    26   \n2         2003      11     1266      73     1437      61    N      0    24   \n3         2003      11     1296      56     1457      50    N      0    18   \n4         2003      11     1400      77     1208      71    N      0    30   \n...        ...     ...      ...     ...      ...     ...  ...    ...   ...   \n118444    2025     120     1433      71     1182      62    A      0    23   \n118445    2025     120     1436      79     1107      71    H      0    28   \n118446    2025     120     1438      60     1199      57    H      0    21   \n118447    2025     120     1452      71     1428      69    A      0    26   \n118448    2025     120     1460      98     1237      85    H      0    36   \n\n        WFGA  ...  LFGA3  LFTM  LFTA  LOR  LDR  LAst  LTO  LStl  LBlk  LPF  \n0         58  ...     10    16    22   10   22     8   18     9     2   20  \n1         62  ...     24     9    20   20   25     7   12     8     6   16  \n2         58  ...     26    14    23   31   22     9   12     2     5   23  \n3         38  ...     22     8    15   17   20     9   19     4     3   23  \n4         61  ...     16    17    27   21   15    12   10     7     1   14  \n...      ...  ...    ...   ...   ...  ...  ...   ...  ...   ...   ...  ...  \n118444    55  ...     16    16    24   11   19     9   15     8     5   16  \n118445    48  ...     20    12    15   10   18    11    8     9     0   15  \n118446    53  ...     22     4     7   12   21    12    8     7     9   15  \n118447    57  ...     28    22    32   10   26    11   16     7     3   17  \n118448    57  ...     24     9    14    4   12    16    4     7     1   16  \n\n[118449 rows x 34 columns]",
      "text/html": "<div>\n<style scoped>\n    .dataframe tbody tr th:only-of-type {\n        vertical-align: middle;\n    }\n\n    .dataframe tbody tr th {\n        vertical-align: top;\n    }\n\n    .dataframe thead th {\n        text-align: right;\n    }\n</style>\n<table border=\"1\" class=\"dataframe\">\n  <thead>\n    <tr style=\"text-align: right;\">\n      <th></th>\n      <th>Season</th>\n      <th>DayNum</th>\n      <th>WTeamID</th>\n      <th>WScore</th>\n      <th>LTeamID</th>\n      <th>LScore</th>\n      <th>WLoc</th>\n      <th>NumOT</th>\n      <th>WFGM</th>\n      <th>WFGA</th>\n      <th>...</th>\n      <th>LFGA3</th>\n      <th>LFTM</th>\n      <th>LFTA</th>\n      <th>LOR</th>\n      <th>LDR</th>\n      <th>LAst</th>\n      <th>LTO</th>\n      <th>LStl</th>\n      <th>LBlk</th>\n      <th>LPF</th>\n    </tr>\n  </thead>\n  <tbody>\n    <tr>\n      <th>0</th>\n      <td>2003</td>\n      <td>10</td>\n      <td>1104</td>\n      <td>68</td>\n      <td>1328</td>\n      <td>62</td>\n      <td>N</td>\n      <td>0</td>\n      <td>27</td>\n      <td>58</td>\n      <td>...</td>\n      <td>10</td>\n      <td>16</td>\n      <td>22</td>\n      <td>10</td>\n      <td>22</td>\n      <td>8</td>\n      <td>18</td>\n      <td>9</td>\n      <td>2</td>\n      <td>20</td>\n    </tr>\n    <tr>\n      <th>1</th>\n      <td>2003</td>\n      <td>10</td>\n      <td>1272</td>\n      <td>70</td>\n      <td>1393</td>\n      <td>63</td>\n      <td>N</td>\n      <td>0</td>\n      <td>26</td>\n      <td>62</td>\n      <td>...</td>\n      <td>24</td>\n      <td>9</td>\n      <td>20</td>\n      <td>20</td>\n      <td>25</td>\n      <td>7</td>\n      <td>12</td>\n      <td>8</td>\n      <td>6</td>\n      <td>16</td>\n    </tr>\n    <tr>\n      <th>2</th>\n      <td>2003</td>\n      <td>11</td>\n      <td>1266</td>\n      <td>73</td>\n      <td>1437</td>\n      <td>61</td>\n      <td>N</td>\n      <td>0</td>\n      <td>24</td>\n      <td>58</td>\n      <td>...</td>\n      <td>26</td>\n      <td>14</td>\n      <td>23</td>\n      <td>31</td>\n      <td>22</td>\n      <td>9</td>\n      <td>12</td>\n      <td>2</td>\n      <td>5</td>\n      <td>23</td>\n    </tr>\n    <tr>\n      <th>3</th>\n      <td>2003</td>\n      <td>11</td>\n      <td>1296</td>\n      <td>56</td>\n      <td>1457</td>\n      <td>50</td>\n      <td>N</td>\n      <td>0</td>\n      <td>18</td>\n      <td>38</td>\n      <td>...</td>\n      <td>22</td>\n      <td>8</td>\n      <td>15</td>\n      <td>17</td>\n      <td>20</td>\n      <td>9</td>\n      <td>19</td>\n      <td>4</td>\n      <td>3</td>\n      <td>23</td>\n    </tr>\n    <tr>\n      <th>4</th>\n      <td>2003</td>\n      <td>11</td>\n      <td>1400</td>\n      <td>77</td>\n      <td>1208</td>\n      <td>71</td>\n      <td>N</td>\n      <td>0</td>\n      <td>30</td>\n      <td>61</td>\n      <td>...</td>\n      <td>16</td>\n      <td>17</td>\n      <td>27</td>\n      <td>21</td>\n      <td>15</td>\n      <td>12</td>\n      <td>10</td>\n      <td>7</td>\n      <td>1</td>\n      <td>14</td>\n    </tr>\n    <tr>\n      <th>...</th>\n      <td>...</td>\n      <td>...</td>\n      <td>...</td>\n      <td>...</td>\n      <td>...</td>\n      <td>...</td>\n      <td>...</td>\n      <td>...</td>\n      <td>...</td>\n      <td>...</td>\n      <td>...</td>\n      <td>...</td>\n      <td>...</td>\n      <td>...</td>\n      <td>...</td>\n      <td>...</td>\n      <td>...</td>\n      <td>...</td>\n      <td>...</td>\n      <td>...</td>\n      <td>...</td>\n    </tr>\n    <tr>\n      <th>118444</th>\n      <td>2025</td>\n      <td>120</td>\n      <td>1433</td>\n      <td>71</td>\n      <td>1182</td>\n      <td>62</td>\n      <td>A</td>\n      <td>0</td>\n      <td>23</td>\n      <td>55</td>\n      <td>...</td>\n      <td>16</td>\n      <td>16</td>\n      <td>24</td>\n      <td>11</td>\n      <td>19</td>\n      <td>9</td>\n      <td>15</td>\n      <td>8</td>\n      <td>5</td>\n      <td>16</td>\n    </tr>\n    <tr>\n      <th>118445</th>\n      <td>2025</td>\n      <td>120</td>\n      <td>1436</td>\n      <td>79</td>\n      <td>1107</td>\n      <td>71</td>\n      <td>H</td>\n      <td>0</td>\n      <td>28</td>\n      <td>48</td>\n      <td>...</td>\n      <td>20</td>\n      <td>12</td>\n      <td>15</td>\n      <td>10</td>\n      <td>18</td>\n      <td>11</td>\n      <td>8</td>\n      <td>9</td>\n      <td>0</td>\n      <td>15</td>\n    </tr>\n    <tr>\n      <th>118446</th>\n      <td>2025</td>\n      <td>120</td>\n      <td>1438</td>\n      <td>60</td>\n      <td>1199</td>\n      <td>57</td>\n      <td>H</td>\n      <td>0</td>\n      <td>21</td>\n      <td>53</td>\n      <td>...</td>\n      <td>22</td>\n      <td>4</td>\n      <td>7</td>\n      <td>12</td>\n      <td>21</td>\n      <td>12</td>\n      <td>8</td>\n      <td>7</td>\n      <td>9</td>\n      <td>15</td>\n    </tr>\n    <tr>\n      <th>118447</th>\n      <td>2025</td>\n      <td>120</td>\n      <td>1452</td>\n      <td>71</td>\n      <td>1428</td>\n      <td>69</td>\n      <td>A</td>\n      <td>0</td>\n      <td>26</td>\n      <td>57</td>\n      <td>...</td>\n      <td>28</td>\n      <td>22</td>\n      <td>32</td>\n      <td>10</td>\n      <td>26</td>\n      <td>11</td>\n      <td>16</td>\n      <td>7</td>\n      <td>3</td>\n      <td>17</td>\n    </tr>\n    <tr>\n      <th>118448</th>\n      <td>2025</td>\n      <td>120</td>\n      <td>1460</td>\n      <td>98</td>\n      <td>1237</td>\n      <td>85</td>\n      <td>H</td>\n      <td>0</td>\n      <td>36</td>\n      <td>57</td>\n      <td>...</td>\n      <td>24</td>\n      <td>9</td>\n      <td>14</td>\n      <td>4</td>\n      <td>12</td>\n      <td>16</td>\n      <td>4</td>\n      <td>7</td>\n      <td>1</td>\n      <td>16</td>\n    </tr>\n  </tbody>\n</table>\n<p>118449 rows × 34 columns</p>\n</div>"
     },
     "execution_count": 3,
     "metadata": {},
     "output_type": "execute_result"
    }
   ],
   "source": [
    "mRegDetail"
   ],
   "metadata": {
    "collapsed": false,
    "ExecuteTime": {
     "end_time": "2025-03-08T21:57:32.608654Z",
     "start_time": "2025-03-08T21:57:32.569080Z"
    }
   },
   "id": "80b747df2f35b319",
   "execution_count": 3
  }
 ],
 "metadata": {
  "kernelspec": {
   "display_name": "Python 3",
   "language": "python",
   "name": "python3"
  },
  "language_info": {
   "codemirror_mode": {
    "name": "ipython",
    "version": 2
   },
   "file_extension": ".py",
   "mimetype": "text/x-python",
   "name": "python",
   "nbconvert_exporter": "python",
   "pygments_lexer": "ipython2",
   "version": "2.7.6"
  }
 },
 "nbformat": 4,
 "nbformat_minor": 5
}
